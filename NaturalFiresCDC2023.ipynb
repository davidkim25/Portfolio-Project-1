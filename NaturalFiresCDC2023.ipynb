{
 "cells": [
  {
   "cell_type": "markdown",
   "metadata": {},
   "source": [
    "# Wildfires in the United States Analysis Project - CDC 2023\n",
    "## Introduction\n",
    "When I attended Carolina Data Challenge in 2023, I didn't know how to go about this project. <br>Fortunately, I found a team that was willing to help me and I was able to give presentation alongside them. <br>\n",
    "Now that I have more experience, I'm revisiting the dataset to apply the knowledge and skills I've learned.\n",
    "\n",
    "The original dataset contained over 900k+ records of wildfire incidents from 2000 to 2010 with close to 40 columns for attributes. \n",
    "I've narrowed down the attributes to 12 pertinent columns for this analysis.\n",
    "\n",
    "I will be demonstrating steps and reasoning for my analysis, which can be found in bold. <br>\n",
    "This is an ongoing project as I plan to add more analysis and visualizations."
   ]
  },
  {
   "cell_type": "markdown",
   "metadata": {},
   "source": [
    "## Setting up DataFrame"
   ]
  },
  {
   "cell_type": "code",
   "execution_count": null,
   "metadata": {},
   "outputs": [],
   "source": [
    "# Installing & Importing necessary libraries\n",
    "%pip install pandas numpy plotly seaborn matplotlib scikit-learn\n",
    "\n",
    "import pandas as pd\n",
    "import numpy as np\n",
    "import plotly.express as px\n",
    "import plotly.graph_objects as go\n",
    "import seaborn as sns\n",
    "import matplotlib.pyplot as plt\n",
    "from datetime import datetime, timedelta\n",
    "from sklearn.preprocessing import MinMaxScaler\n"
   ]
  },
  {
   "cell_type": "code",
   "execution_count": 2,
   "metadata": {},
   "outputs": [
    {
     "name": "stdout",
     "output_type": "stream",
     "text": [
      "Number of data: 937972\n"
     ]
    }
   ],
   "source": [
    "# Loading the dataset into a pandas dataframe\n",
    "df = pd.read_excel(\"..\\\\Excel Dataset\\\\2023CDCNaturalFiresDataset.xlsx\")\n",
    "\n",
    "# Display the number of data\n",
    "row_count = len(df)         # could be len(df.index) or df.shape[0]\n",
    "print(f'Number of data: {row_count}')"
   ]
  },
  {
   "cell_type": "code",
   "execution_count": 3,
   "metadata": {},
   "outputs": [
    {
     "data": {
      "text/html": [
       "<div>\n",
       "<style scoped>\n",
       "    .dataframe tbody tr th:only-of-type {\n",
       "        vertical-align: middle;\n",
       "    }\n",
       "\n",
       "    .dataframe tbody tr th {\n",
       "        vertical-align: top;\n",
       "    }\n",
       "\n",
       "    .dataframe thead th {\n",
       "        text-align: right;\n",
       "    }\n",
       "</style>\n",
       "<table border=\"1\" class=\"dataframe\">\n",
       "  <thead>\n",
       "    <tr style=\"text-align: right;\">\n",
       "      <th></th>\n",
       "      <th>FIRE_YEAR</th>\n",
       "      <th>DISCOVERY_DOY</th>\n",
       "      <th>DISCOVERY_TIME</th>\n",
       "      <th>CONT_DOY</th>\n",
       "      <th>CONT_TIME</th>\n",
       "      <th>STAT_CAUSE_CODE</th>\n",
       "      <th>STAT_CAUSE_DESCR</th>\n",
       "      <th>FIRE_SIZE</th>\n",
       "      <th>FIRE_SIZE_CLASS</th>\n",
       "      <th>LATITUDE</th>\n",
       "      <th>LONGITUDE</th>\n",
       "      <th>STATE</th>\n",
       "    </tr>\n",
       "  </thead>\n",
       "  <tbody>\n",
       "    <tr>\n",
       "      <th>0</th>\n",
       "      <td>2010</td>\n",
       "      <td>139</td>\n",
       "      <td>NaN</td>\n",
       "      <td>NaN</td>\n",
       "      <td>NaN</td>\n",
       "      <td>2</td>\n",
       "      <td>Equipment Use</td>\n",
       "      <td>70.0</td>\n",
       "      <td>C</td>\n",
       "      <td>36.766944</td>\n",
       "      <td>-121.303056</td>\n",
       "      <td>CA</td>\n",
       "    </tr>\n",
       "    <tr>\n",
       "      <th>1</th>\n",
       "      <td>2010</td>\n",
       "      <td>159</td>\n",
       "      <td>NaN</td>\n",
       "      <td>NaN</td>\n",
       "      <td>NaN</td>\n",
       "      <td>9</td>\n",
       "      <td>Miscellaneous</td>\n",
       "      <td>0.5</td>\n",
       "      <td>B</td>\n",
       "      <td>36.776944</td>\n",
       "      <td>-121.311111</td>\n",
       "      <td>CA</td>\n",
       "    </tr>\n",
       "    <tr>\n",
       "      <th>2</th>\n",
       "      <td>2010</td>\n",
       "      <td>163</td>\n",
       "      <td>NaN</td>\n",
       "      <td>NaN</td>\n",
       "      <td>NaN</td>\n",
       "      <td>9</td>\n",
       "      <td>Miscellaneous</td>\n",
       "      <td>0.1</td>\n",
       "      <td>A</td>\n",
       "      <td>36.856111</td>\n",
       "      <td>-121.381111</td>\n",
       "      <td>CA</td>\n",
       "    </tr>\n",
       "    <tr>\n",
       "      <th>3</th>\n",
       "      <td>2010</td>\n",
       "      <td>165</td>\n",
       "      <td>NaN</td>\n",
       "      <td>NaN</td>\n",
       "      <td>NaN</td>\n",
       "      <td>9</td>\n",
       "      <td>Miscellaneous</td>\n",
       "      <td>0.1</td>\n",
       "      <td>A</td>\n",
       "      <td>36.818056</td>\n",
       "      <td>-121.391111</td>\n",
       "      <td>CA</td>\n",
       "    </tr>\n",
       "    <tr>\n",
       "      <th>4</th>\n",
       "      <td>2010</td>\n",
       "      <td>192</td>\n",
       "      <td>NaN</td>\n",
       "      <td>NaN</td>\n",
       "      <td>NaN</td>\n",
       "      <td>9</td>\n",
       "      <td>Miscellaneous</td>\n",
       "      <td>1.0</td>\n",
       "      <td>B</td>\n",
       "      <td>36.883056</td>\n",
       "      <td>-121.561944</td>\n",
       "      <td>CA</td>\n",
       "    </tr>\n",
       "    <tr>\n",
       "      <th>5</th>\n",
       "      <td>2010</td>\n",
       "      <td>210</td>\n",
       "      <td>NaN</td>\n",
       "      <td>NaN</td>\n",
       "      <td>NaN</td>\n",
       "      <td>5</td>\n",
       "      <td>Debris Burning</td>\n",
       "      <td>0.3</td>\n",
       "      <td>B</td>\n",
       "      <td>36.936111</td>\n",
       "      <td>-121.388056</td>\n",
       "      <td>CA</td>\n",
       "    </tr>\n",
       "    <tr>\n",
       "      <th>6</th>\n",
       "      <td>2010</td>\n",
       "      <td>254</td>\n",
       "      <td>NaN</td>\n",
       "      <td>NaN</td>\n",
       "      <td>NaN</td>\n",
       "      <td>2</td>\n",
       "      <td>Equipment Use</td>\n",
       "      <td>0.5</td>\n",
       "      <td>B</td>\n",
       "      <td>36.758056</td>\n",
       "      <td>-121.503056</td>\n",
       "      <td>CA</td>\n",
       "    </tr>\n",
       "    <tr>\n",
       "      <th>7</th>\n",
       "      <td>2010</td>\n",
       "      <td>75</td>\n",
       "      <td>NaN</td>\n",
       "      <td>NaN</td>\n",
       "      <td>NaN</td>\n",
       "      <td>9</td>\n",
       "      <td>Miscellaneous</td>\n",
       "      <td>0.1</td>\n",
       "      <td>A</td>\n",
       "      <td>36.818056</td>\n",
       "      <td>-121.391111</td>\n",
       "      <td>CA</td>\n",
       "    </tr>\n",
       "    <tr>\n",
       "      <th>8</th>\n",
       "      <td>2010</td>\n",
       "      <td>121</td>\n",
       "      <td>NaN</td>\n",
       "      <td>NaN</td>\n",
       "      <td>NaN</td>\n",
       "      <td>9</td>\n",
       "      <td>Miscellaneous</td>\n",
       "      <td>1.0</td>\n",
       "      <td>B</td>\n",
       "      <td>36.883056</td>\n",
       "      <td>-121.561944</td>\n",
       "      <td>CA</td>\n",
       "    </tr>\n",
       "    <tr>\n",
       "      <th>9</th>\n",
       "      <td>2010</td>\n",
       "      <td>174</td>\n",
       "      <td>NaN</td>\n",
       "      <td>NaN</td>\n",
       "      <td>NaN</td>\n",
       "      <td>9</td>\n",
       "      <td>Miscellaneous</td>\n",
       "      <td>16.0</td>\n",
       "      <td>C</td>\n",
       "      <td>35.953056</td>\n",
       "      <td>-120.866944</td>\n",
       "      <td>CA</td>\n",
       "    </tr>\n",
       "  </tbody>\n",
       "</table>\n",
       "</div>"
      ],
      "text/plain": [
       "   FIRE_YEAR  DISCOVERY_DOY  DISCOVERY_TIME  CONT_DOY  CONT_TIME  \\\n",
       "0       2010            139             NaN       NaN        NaN   \n",
       "1       2010            159             NaN       NaN        NaN   \n",
       "2       2010            163             NaN       NaN        NaN   \n",
       "3       2010            165             NaN       NaN        NaN   \n",
       "4       2010            192             NaN       NaN        NaN   \n",
       "5       2010            210             NaN       NaN        NaN   \n",
       "6       2010            254             NaN       NaN        NaN   \n",
       "7       2010             75             NaN       NaN        NaN   \n",
       "8       2010            121             NaN       NaN        NaN   \n",
       "9       2010            174             NaN       NaN        NaN   \n",
       "\n",
       "   STAT_CAUSE_CODE STAT_CAUSE_DESCR  FIRE_SIZE FIRE_SIZE_CLASS   LATITUDE  \\\n",
       "0                2    Equipment Use       70.0               C  36.766944   \n",
       "1                9    Miscellaneous        0.5               B  36.776944   \n",
       "2                9    Miscellaneous        0.1               A  36.856111   \n",
       "3                9    Miscellaneous        0.1               A  36.818056   \n",
       "4                9    Miscellaneous        1.0               B  36.883056   \n",
       "5                5   Debris Burning        0.3               B  36.936111   \n",
       "6                2    Equipment Use        0.5               B  36.758056   \n",
       "7                9    Miscellaneous        0.1               A  36.818056   \n",
       "8                9    Miscellaneous        1.0               B  36.883056   \n",
       "9                9    Miscellaneous       16.0               C  35.953056   \n",
       "\n",
       "    LONGITUDE STATE  \n",
       "0 -121.303056    CA  \n",
       "1 -121.311111    CA  \n",
       "2 -121.381111    CA  \n",
       "3 -121.391111    CA  \n",
       "4 -121.561944    CA  \n",
       "5 -121.388056    CA  \n",
       "6 -121.503056    CA  \n",
       "7 -121.391111    CA  \n",
       "8 -121.561944    CA  \n",
       "9 -120.866944    CA  "
      ]
     },
     "execution_count": 3,
     "metadata": {},
     "output_type": "execute_result"
    }
   ],
   "source": [
    "# Displaying the dataframe\n",
    "df.head(10)"
   ]
  },
  {
   "cell_type": "markdown",
   "metadata": {},
   "source": [
    "## Remarks on the Dataset\n",
    "### Identifying Attributes of Wildfire\n",
    "- The original dataset contained close to 40 Attributes/Features.\n",
    "- **Only 12 pertinent attributes were picked out of 40 for this analysis.** <br>\n",
    "- **Quantitative variables**: Fire Year, Discovery Day of Year, Discovery Time of Day, Containment Day of Year, Containment Time of Day, Fire Size, Latitude, Longitidue <br>\n",
    "- **Qualitative variables**: Status Cause Code, Status Cause Description, Fire Size Class, State\n",
    "<br>\n",
    "\n",
    "### Observation on the values of the dataset\n",
    "- **Day of Year was recorded on a scale of 365 days or 366 days during Leap Years.** \n",
    "- **Time of Day was recorded numerically using up to 4 digits.**\n",
    "    - 5 represented 00:05 \n",
    "    - 12 represented 00:12 \n",
    "    - 333 represented 3:33 \n",
    "    - 1859 represented 18:59\n",
    "- Fire Size was recorded in acres.\n",
    "- According to the National Forest Service, classification of the Fires are categorized based on the size of fire:<br>\n",
    "\n",
    " Class    | Acres Range |\n",
    "| -------- | ------- |\n",
    "| A     | 0 - 0.25 acres    |\n",
    "| B     | 0.26 - 9.9 acres  |\n",
    "| C     | 10 - 99.9 acres   |\n",
    "| D     | 100 - 299 acres   |\n",
    "|E      | 300 - 999 acres   |\n",
    "|F      | 1000 - 4999 acres |\n",
    "|G      | 5000+ acres       |\n",
    "\n"
   ]
  },
  {
   "cell_type": "markdown",
   "metadata": {},
   "source": [
    "## Identifying Empty Cells"
   ]
  },
  {
   "cell_type": "code",
   "execution_count": 4,
   "metadata": {},
   "outputs": [
    {
     "data": {
      "text/plain": [
       "FIRE_YEAR            0.000000\n",
       "DISCOVERY_DOY        0.000000\n",
       "DISCOVERY_TIME      56.215751\n",
       "CONT_DOY            57.883604\n",
       "CONT_TIME           60.703944\n",
       "STAT_CAUSE_CODE      0.000000\n",
       "STAT_CAUSE_DESCR     0.000000\n",
       "FIRE_SIZE            0.000000\n",
       "FIRE_SIZE_CLASS      0.000000\n",
       "LATITUDE             0.000000\n",
       "LONGITUDE            0.000000\n",
       "STATE                0.000000\n",
       "dtype: float64"
      ]
     },
     "execution_count": 4,
     "metadata": {},
     "output_type": "execute_result"
    }
   ],
   "source": [
    "# Checking for null values, expressed as a percentage of data\n",
    "(df.isnull().sum()) / len(df) * 100"
   ]
  },
  {
   "cell_type": "markdown",
   "metadata": {},
   "source": [
    "- **Empty cells were found in each attribute columns to determine usability for the analysis.**\n",
    "    - About 56% of Discovery Time is missing.\n",
    "    - About 57% of Containment Day of Year is missing.\n",
    "    - About 61% of Containment Time is missing."
   ]
  },
  {
   "cell_type": "markdown",
   "metadata": {},
   "source": [
    "## Choosing Attributes for Analysis\n",
    "### Correlation Heatmap\n",
    "- **Correlation Heatmap was used to scan if there are any noticeable interactions between two variables.**\n",
    "- **The levels of categorical (qualitative) variables should be coded/factored for correlation.**\n",
    "    - Levels of Status Cause Code & State will be factored into numerical values.\n",
    "    - Fire Size Status can be evaluated by Fire Size & Status Cause Description can be evaluated by factored Status Cause Code.\n"
   ]
  },
  {
   "cell_type": "code",
   "execution_count": 5,
   "metadata": {},
   "outputs": [
    {
     "data": {
      "image/png": "[encoded data removed]",
      "text/plain": [
       "<Figure size 1200x1000 with 1 Axes>"
      ]
     },
     "metadata": {},
     "output_type": "display_data"
    }
   ],
   "source": [
    "# Label/level encoding to include categorical data in the heatmap\n",
    "df['STATE_factored'] = df['STATE'].astype('category').cat.codes\n",
    "df['STAT_CAUSE_DESCR_factored'] = df['STAT_CAUSE_DESCR'].astype('category').cat.codes\n",
    "\n",
    "# Selecting numeric columns for the heatmap\n",
    "numeric_df = df.select_dtypes(include=[np.number])\n",
    "\n",
    "# Creating correlation heatmap using Seaborn\n",
    "plt.figure(figsize=(12, 10))\n",
    "sns.heatmap(numeric_df.corr(), annot=True, cmap='Greens', cbar=False)\n",
    "\n",
    "plt.show()"
   ]
  },
  {
   "cell_type": "markdown",
   "metadata": {},
   "source": [
    "### Remarks on the Correlation Heatmap\n",
    "- There seems to be some level of correlation between the Discovery Time and Containment Time\n",
    "    - **It would be interesting to see the difference between Discovery Time and Containment Time as a new potential variable in describing wildfire.** \n",
    "    - Because both of them were recorded in digits, and not as an actual time, appropriate conversion should be performed.\n",
    "    - However, as there are a lot of data missing in these columns, this will be analyzed at the end with a valid subset of the current dataset.\n",
    "    - Jump to: [Here](#Here)\n",
    "- **The caveat of this correlation map is that better variable selection and regression modeling process should be used to determine the significance of variables and their order and interactions.**\n",
    "    - Looking to expand on this via statistical analysis using R."
   ]
  },
  {
   "cell_type": "markdown",
   "metadata": {},
   "source": [
    "## Subjective Variable Selections\n",
    "### 4 perspectives were chosen for the analysis.\n",
    "### 1. Number of Wildfire Incidents by Months\n",
    "- **Interested to see which month had the most number of wildfire incidents from 2000 to 2010.**\n",
    "- Requires feature engineering DOY into a new attribute, Months.\n",
    "\n",
    "### 2. Fire Size across Months\n",
    "- **Interested to see which month had most severe cases of wildfire from 2000 to 2010.**\n",
    "\n",
    "### 3. Fire Size across Years\n",
    "- **Interested to see which year had the most area of land impacted by wildfires from 2000 to 2010.**\n",
    "\n",
    "### 4. Fire Containment Time across Years\n",
    "- **Interested to see which year most struggled with fire containment from 2000 to 2010.**\n",
    "- Will be using a subset of data due to presence of empty records.\n",
    "- Requires data engineering, involving transformation of time records. "
   ]
  },
  {
   "cell_type": "markdown",
   "metadata": {},
   "source": [
    "## 1. Number of Wildfire Incidents by Months\n",
    "Perspective chosen to see which month had the most number of wildfire incidents from 2000 to 2010. \n",
    "### Feature Engineering\n",
    "- DOY was recorded as a number between 1 and 365 or 366 depending on Leap years. \n",
    "- **For the analysis, they had to be converted into Months (January - December)**"
   ]
  },
  {
   "cell_type": "code",
   "execution_count": 6,
   "metadata": {},
   "outputs": [
    {
     "data": {
      "text/plain": [
       "['May', 'June', 'July', 'September', 'March', ..., 'January', 'February', 'April', 'November', 'December']\n",
       "Length: 12\n",
       "Categories (12, object): ['April', 'August', 'December', 'February', ..., 'May', 'November', 'October', 'September']"
      ]
     },
     "execution_count": 6,
     "metadata": {},
     "output_type": "execute_result"
    }
   ],
   "source": [
    "# Defining function to get the month of year based on the year\n",
    "# Step 1: Check if the year is a leap year\n",
    "# Step 2: Adding the number of days to the first day of the base year (2000 or 2001)\n",
    "# Step 3: Trasforming numerical month to string month using .strftime('%B')\n",
    "\n",
    "def get_month(year, doy):   \n",
    "    if year % 4 == 0:           \n",
    "        return (datetime(2000,1,1) + timedelta(days=doy-1)).strftime('%B')        \n",
    "    else:\n",
    "        return (datetime(2001,1,1) + timedelta(days=doy-1)).strftime('%B')        \n",
    "    \n",
    "# Creating a DISCOVERY_Month field with correlating values to the DataFrame\n",
    "df['DISCOVERY_Month'] = df.apply(lambda x: get_month(x['FIRE_YEAR'], x['DISCOVERY_DOY']), axis=1)\n",
    "# Converting the DISCOVERY_Month field to a categorical field\n",
    "df['DISCOVERY_Month'] = df['DISCOVERY_Month'].astype('category')\n",
    "\n",
    "df['DISCOVERY_Month'].unique()\n"
   ]
  },
  {
   "cell_type": "code",
   "execution_count": 7,
   "metadata": {},
   "outputs": [
    {
     "name": "stdout",
     "output_type": "stream",
     "text": [
      "December\n",
      "December\n",
      "January\n"
     ]
    }
   ],
   "source": [
    "print(get_month(2000, 366))     # 366 in year 2000 should return December\n",
    "print(get_month(2001, 365))     # 365 in year 2001 should return December\n",
    "print(get_month(2001, 366))     # 366 in year 2001 should return January\n"
   ]
  },
  {
   "cell_type": "code",
   "execution_count": 8,
   "metadata": {},
   "outputs": [
    {
     "data": {
      "text/html": [
       "<div>\n",
       "<style scoped>\n",
       "    .dataframe tbody tr th:only-of-type {\n",
       "        vertical-align: middle;\n",
       "    }\n",
       "\n",
       "    .dataframe tbody tr th {\n",
       "        vertical-align: top;\n",
       "    }\n",
       "\n",
       "    .dataframe thead th {\n",
       "        text-align: right;\n",
       "    }\n",
       "</style>\n",
       "<table border=\"1\" class=\"dataframe\">\n",
       "  <thead>\n",
       "    <tr style=\"text-align: right;\">\n",
       "      <th></th>\n",
       "      <th>FIRE_YEAR</th>\n",
       "      <th>DISCOVERY_DOY</th>\n",
       "      <th>DISCOVERY_TIME</th>\n",
       "      <th>CONT_DOY</th>\n",
       "      <th>CONT_TIME</th>\n",
       "      <th>STAT_CAUSE_CODE</th>\n",
       "      <th>STAT_CAUSE_DESCR</th>\n",
       "      <th>FIRE_SIZE</th>\n",
       "      <th>FIRE_SIZE_CLASS</th>\n",
       "      <th>LATITUDE</th>\n",
       "      <th>LONGITUDE</th>\n",
       "      <th>STATE</th>\n",
       "      <th>DISCOVERY_Month</th>\n",
       "    </tr>\n",
       "  </thead>\n",
       "  <tbody>\n",
       "    <tr>\n",
       "      <th>0</th>\n",
       "      <td>2010</td>\n",
       "      <td>139</td>\n",
       "      <td>NaN</td>\n",
       "      <td>NaN</td>\n",
       "      <td>NaN</td>\n",
       "      <td>2</td>\n",
       "      <td>Equipment Use</td>\n",
       "      <td>70.0</td>\n",
       "      <td>C</td>\n",
       "      <td>36.766944</td>\n",
       "      <td>-121.303056</td>\n",
       "      <td>CA</td>\n",
       "      <td>May</td>\n",
       "    </tr>\n",
       "    <tr>\n",
       "      <th>1</th>\n",
       "      <td>2010</td>\n",
       "      <td>159</td>\n",
       "      <td>NaN</td>\n",
       "      <td>NaN</td>\n",
       "      <td>NaN</td>\n",
       "      <td>9</td>\n",
       "      <td>Miscellaneous</td>\n",
       "      <td>0.5</td>\n",
       "      <td>B</td>\n",
       "      <td>36.776944</td>\n",
       "      <td>-121.311111</td>\n",
       "      <td>CA</td>\n",
       "      <td>June</td>\n",
       "    </tr>\n",
       "    <tr>\n",
       "      <th>2</th>\n",
       "      <td>2010</td>\n",
       "      <td>163</td>\n",
       "      <td>NaN</td>\n",
       "      <td>NaN</td>\n",
       "      <td>NaN</td>\n",
       "      <td>9</td>\n",
       "      <td>Miscellaneous</td>\n",
       "      <td>0.1</td>\n",
       "      <td>A</td>\n",
       "      <td>36.856111</td>\n",
       "      <td>-121.381111</td>\n",
       "      <td>CA</td>\n",
       "      <td>June</td>\n",
       "    </tr>\n",
       "    <tr>\n",
       "      <th>3</th>\n",
       "      <td>2010</td>\n",
       "      <td>165</td>\n",
       "      <td>NaN</td>\n",
       "      <td>NaN</td>\n",
       "      <td>NaN</td>\n",
       "      <td>9</td>\n",
       "      <td>Miscellaneous</td>\n",
       "      <td>0.1</td>\n",
       "      <td>A</td>\n",
       "      <td>36.818056</td>\n",
       "      <td>-121.391111</td>\n",
       "      <td>CA</td>\n",
       "      <td>June</td>\n",
       "    </tr>\n",
       "    <tr>\n",
       "      <th>4</th>\n",
       "      <td>2010</td>\n",
       "      <td>192</td>\n",
       "      <td>NaN</td>\n",
       "      <td>NaN</td>\n",
       "      <td>NaN</td>\n",
       "      <td>9</td>\n",
       "      <td>Miscellaneous</td>\n",
       "      <td>1.0</td>\n",
       "      <td>B</td>\n",
       "      <td>36.883056</td>\n",
       "      <td>-121.561944</td>\n",
       "      <td>CA</td>\n",
       "      <td>July</td>\n",
       "    </tr>\n",
       "    <tr>\n",
       "      <th>5</th>\n",
       "      <td>2010</td>\n",
       "      <td>210</td>\n",
       "      <td>NaN</td>\n",
       "      <td>NaN</td>\n",
       "      <td>NaN</td>\n",
       "      <td>5</td>\n",
       "      <td>Debris Burning</td>\n",
       "      <td>0.3</td>\n",
       "      <td>B</td>\n",
       "      <td>36.936111</td>\n",
       "      <td>-121.388056</td>\n",
       "      <td>CA</td>\n",
       "      <td>July</td>\n",
       "    </tr>\n",
       "    <tr>\n",
       "      <th>6</th>\n",
       "      <td>2010</td>\n",
       "      <td>254</td>\n",
       "      <td>NaN</td>\n",
       "      <td>NaN</td>\n",
       "      <td>NaN</td>\n",
       "      <td>2</td>\n",
       "      <td>Equipment Use</td>\n",
       "      <td>0.5</td>\n",
       "      <td>B</td>\n",
       "      <td>36.758056</td>\n",
       "      <td>-121.503056</td>\n",
       "      <td>CA</td>\n",
       "      <td>September</td>\n",
       "    </tr>\n",
       "    <tr>\n",
       "      <th>7</th>\n",
       "      <td>2010</td>\n",
       "      <td>75</td>\n",
       "      <td>NaN</td>\n",
       "      <td>NaN</td>\n",
       "      <td>NaN</td>\n",
       "      <td>9</td>\n",
       "      <td>Miscellaneous</td>\n",
       "      <td>0.1</td>\n",
       "      <td>A</td>\n",
       "      <td>36.818056</td>\n",
       "      <td>-121.391111</td>\n",
       "      <td>CA</td>\n",
       "      <td>March</td>\n",
       "    </tr>\n",
       "    <tr>\n",
       "      <th>8</th>\n",
       "      <td>2010</td>\n",
       "      <td>121</td>\n",
       "      <td>NaN</td>\n",
       "      <td>NaN</td>\n",
       "      <td>NaN</td>\n",
       "      <td>9</td>\n",
       "      <td>Miscellaneous</td>\n",
       "      <td>1.0</td>\n",
       "      <td>B</td>\n",
       "      <td>36.883056</td>\n",
       "      <td>-121.561944</td>\n",
       "      <td>CA</td>\n",
       "      <td>May</td>\n",
       "    </tr>\n",
       "    <tr>\n",
       "      <th>9</th>\n",
       "      <td>2010</td>\n",
       "      <td>174</td>\n",
       "      <td>NaN</td>\n",
       "      <td>NaN</td>\n",
       "      <td>NaN</td>\n",
       "      <td>9</td>\n",
       "      <td>Miscellaneous</td>\n",
       "      <td>16.0</td>\n",
       "      <td>C</td>\n",
       "      <td>35.953056</td>\n",
       "      <td>-120.866944</td>\n",
       "      <td>CA</td>\n",
       "      <td>June</td>\n",
       "    </tr>\n",
       "  </tbody>\n",
       "</table>\n",
       "</div>"
      ],
      "text/plain": [
       "   FIRE_YEAR  DISCOVERY_DOY  DISCOVERY_TIME  CONT_DOY  CONT_TIME  \\\n",
       "0       2010            139             NaN       NaN        NaN   \n",
       "1       2010            159             NaN       NaN        NaN   \n",
       "2       2010            163             NaN       NaN        NaN   \n",
       "3       2010            165             NaN       NaN        NaN   \n",
       "4       2010            192             NaN       NaN        NaN   \n",
       "5       2010            210             NaN       NaN        NaN   \n",
       "6       2010            254             NaN       NaN        NaN   \n",
       "7       2010             75             NaN       NaN        NaN   \n",
       "8       2010            121             NaN       NaN        NaN   \n",
       "9       2010            174             NaN       NaN        NaN   \n",
       "\n",
       "   STAT_CAUSE_CODE STAT_CAUSE_DESCR  FIRE_SIZE FIRE_SIZE_CLASS   LATITUDE  \\\n",
       "0                2    Equipment Use       70.0               C  36.766944   \n",
       "1                9    Miscellaneous        0.5               B  36.776944   \n",
       "2                9    Miscellaneous        0.1               A  36.856111   \n",
       "3                9    Miscellaneous        0.1               A  36.818056   \n",
       "4                9    Miscellaneous        1.0               B  36.883056   \n",
       "5                5   Debris Burning        0.3               B  36.936111   \n",
       "6                2    Equipment Use        0.5               B  36.758056   \n",
       "7                9    Miscellaneous        0.1               A  36.818056   \n",
       "8                9    Miscellaneous        1.0               B  36.883056   \n",
       "9                9    Miscellaneous       16.0               C  35.953056   \n",
       "\n",
       "    LONGITUDE STATE DISCOVERY_Month  \n",
       "0 -121.303056    CA             May  \n",
       "1 -121.311111    CA            June  \n",
       "2 -121.381111    CA            June  \n",
       "3 -121.391111    CA            June  \n",
       "4 -121.561944    CA            July  \n",
       "5 -121.388056    CA            July  \n",
       "6 -121.503056    CA       September  \n",
       "7 -121.391111    CA           March  \n",
       "8 -121.561944    CA             May  \n",
       "9 -120.866944    CA            June  "
      ]
     },
     "execution_count": 8,
     "metadata": {},
     "output_type": "execute_result"
    }
   ],
   "source": [
    "# Dropping the factored columns used for correlation heatmap if they exist\n",
    "columns_to_drop = ['STATE_factored', 'STAT_CAUSE_DESCR_factored']\n",
    "df.drop(columns=[col for col in columns_to_drop if col in df.columns], axis=1, inplace=True)\n",
    "\n",
    "df.head(10)"
   ]
  },
  {
   "cell_type": "code",
   "execution_count": 9,
   "metadata": {},
   "outputs": [
    {
     "data": {
      "text/plain": [
       "<Axes: title={'center': 'Number of Fires Incidents by Month'}, xlabel='Months', ylabel='Number of Fires Incidents'>"
      ]
     },
     "execution_count": 9,
     "metadata": {},
     "output_type": "execute_result"
    },
    {
     "data": {
      "image/png": "[encoded data removed]",
      "text/plain": [
       "<Figure size 1200x800 with 1 Axes>"
      ]
     },
     "metadata": {},
     "output_type": "display_data"
    }
   ],
   "source": [
    "# Plotting the number of fires incidents by month\n",
    "fire_count_by_month = pd.Series(df['DISCOVERY_Month']).value_counts()\n",
    "fire_count_by_month.plot.bar(figsize=(12, 8), color='orange', title='Number of Fires Incidents by Month', xlabel = 'Months', ylabel='Number of Fires Incidents')"
   ]
  },
  {
   "cell_type": "markdown",
   "metadata": {},
   "source": [
    "## Interpretation\n",
    "- **From 2000 to 2010, March experienced the most cases of wildfire in the United States.** \n",
    "- **Based on the data from 2000 to 2010, preventative measures could be concentrated more on Spring and Summer months.**\n",
    "- **Could be interesting to discover what factors are contributing to the increase of wildfires during the months of Spring and Summer.**"
   ]
  },
  {
   "cell_type": "markdown",
   "metadata": {},
   "source": [
    "## 2. Fire Size Across Months\n",
    "Perspective chosen to see which month had the most severe cases of wildfire from 2000 to 2010.\n",
    "\n",
    "### Process Insight\n",
    "- DOY was used as a primary feature to better indicate which day of the month wildfire occurred.\n",
    "- Month label was used as an auxiliary index facilitate the visual representation. "
   ]
  },
  {
   "cell_type": "code",
   "execution_count": 10,
   "metadata": {},
   "outputs": [
    {
     "data": {
      "image/png": "[encoded data removed]",
      "text/plain": [
       "<Figure size 1200x800 with 1 Axes>"
      ]
     },
     "metadata": {},
     "output_type": "display_data"
    }
   ],
   "source": [
    "# Defining a custom color map for DISCOVERY_Month\n",
    "month_colors = {\n",
    "    'January': 'blue', 'February': 'lightblue', 'March': 'lightgreen', 'April': 'green', 'May': 'lightcoral',\n",
    "    'June': 'red', 'July': 'darkred', 'August': 'lightsalmon',\n",
    "    'September': 'burlywood', 'October': 'orange', 'November': 'darkorange',\n",
    "    'December': 'darkblue'\n",
    "}\n",
    "\n",
    "# Mapping the colors to the DISCOVERY_Month column\n",
    "colors = df['DISCOVERY_Month'].map(month_colors)\n",
    "\n",
    "# Creating a scatter plot of Fire Size across Months\n",
    "scatplot1 = df.plot.scatter(\n",
    "    x='DISCOVERY_DOY',\n",
    "    y='FIRE_SIZE',\n",
    "    c=colors,\n",
    "    s=50,\n",
    "    figsize=(12, 8),\n",
    "    title='Fire Size across Months from 2000 to 2010',\n",
    "    xlabel='Months',\n",
    "    ylabel='Fire Size (Acres)'\n",
    ")\n",
    "\n",
    "# Setting custom x-axis labels to display months\n",
    "scatplot1.set_xticks([15, 45, 75, 105, 135, 165, 195, 225, 255, 285, 315, 345])\n",
    "scatplot1.set_xticklabels(['Jan', 'Feb', 'Mar', 'Apr', 'May', 'Jun', 'Jul', 'Aug', 'Sep', 'Oct', 'Nov', 'Dec'])\n",
    "\n",
    "# Creating custom legend\n",
    "handles = [plt.Line2D([0], [0], marker='o', color='w', markerfacecolor=color, markersize=10) for color in month_colors.values()]\n",
    "labels = month_colors.keys()\n",
    "scatplot1.legend(handles, labels, title=\"DISCOVERY_Month\", bbox_to_anchor=(1.05, 1), loc='upper left')\n",
    "\n",
    "plt.show()"
   ]
  },
  {
   "cell_type": "markdown",
   "metadata": {},
   "source": [
    "## Interpretation\n",
    "- **From 2000 and 2010, months of June and July experienced most severe cases of wildfire in terms of the fire size.**\n",
    "- **Based on the data from 2000 to 2010, containment measures could be more concentrated on months of June and July.**"
   ]
  },
  {
   "cell_type": "markdown",
   "metadata": {},
   "source": [
    "## 3. Number of Different Fire Sizes by Years \n",
    "- Perspective chosen to see which year had the most area of land impacted by wildfires from 2000 to 2010.\n",
    "\n",
    "### Process Insight\n",
    "- Fire Size is summed up to represent the total area of land impacted by wildfires\n",
    "- Table of Fire Size Classification is provided to facilitate understanding"
   ]
  },
  {
   "cell_type": "code",
   "execution_count": 11,
   "metadata": {},
   "outputs": [
    {
     "name": "stdout",
     "output_type": "stream",
     "text": [
      "                   Range\n",
      "Class                   \n",
      "A         0 - 0.25 acres\n",
      "B       0.26 - 9.9 acres\n",
      "C        10 - 99.9 acres\n",
      "D        100 - 299 acres\n",
      "E        300 - 999 acres\n",
      "F      1000 - 4999 acres\n",
      "G            5000+ acres\n"
     ]
    },
    {
     "data": {
      "image/png": "[encoded data removed]",
      "text/plain": [
       "<Figure size 1200x800 with 1 Axes>"
      ]
     },
     "metadata": {},
     "output_type": "display_data"
    }
   ],
   "source": [
    "# Creating a visual representation of the fire size classes\n",
    "fire_size_class_ranges = {\n",
    "    'A': '0 - 0.25 acres',\n",
    "    'B': '0.26 - 9.9 acres',\n",
    "    'C': '10 - 99.9 acres',\n",
    "    'D': '100 - 299 acres',\n",
    "    'E': '300 - 999 acres',\n",
    "    'F': '1000 - 4999 acres',\n",
    "    'G': '5000+ acres'\n",
    "}\n",
    "\n",
    "# Displaying the fire size class ranges as a table without the numerical index\n",
    "fire_size_class_df = pd.DataFrame(list(fire_size_class_ranges.items()), columns=['Class', 'Range'])\n",
    "fire_size_class_df = fire_size_class_df.set_index('Class')\n",
    "print(fire_size_class_df)\n",
    "\n",
    "# Plot the bar graph\n",
    "df2 = df.groupby(['FIRE_YEAR', 'FIRE_SIZE_CLASS'])['FIRE_SIZE'].sum()\n",
    "df2 = df2.unstack('FIRE_SIZE_CLASS')\n",
    "ax = df2.plot.bar(stacked=True, figsize=(12, 8), title='Total Acres of Land affected per Year by Fire')\n",
    "ax.set_ylabel('Total Acres of Land')\n",
    "\n",
    "\n",
    "plt.show()"
   ]
  },
  {
   "cell_type": "code",
   "execution_count": 12,
   "metadata": {},
   "outputs": [
    {
     "data": {
      "text/html": [
       "<div>\n",
       "<style scoped>\n",
       "    .dataframe tbody tr th:only-of-type {\n",
       "        vertical-align: middle;\n",
       "    }\n",
       "\n",
       "    .dataframe tbody tr th {\n",
       "        vertical-align: top;\n",
       "    }\n",
       "\n",
       "    .dataframe thead th {\n",
       "        text-align: right;\n",
       "    }\n",
       "</style>\n",
       "<table border=\"1\" class=\"dataframe\">\n",
       "  <thead>\n",
       "    <tr style=\"text-align: right;\">\n",
       "      <th>FIRE_SIZE_CLASS</th>\n",
       "      <th>A</th>\n",
       "      <th>B</th>\n",
       "      <th>C</th>\n",
       "      <th>D</th>\n",
       "      <th>E</th>\n",
       "      <th>F</th>\n",
       "      <th>G</th>\n",
       "    </tr>\n",
       "    <tr>\n",
       "      <th>FIRE_YEAR</th>\n",
       "      <th></th>\n",
       "      <th></th>\n",
       "      <th></th>\n",
       "      <th></th>\n",
       "      <th></th>\n",
       "      <th></th>\n",
       "      <th></th>\n",
       "    </tr>\n",
       "  </thead>\n",
       "  <tbody>\n",
       "    <tr>\n",
       "      <th>2000</th>\n",
       "      <td>3841.705000</td>\n",
       "      <td>110961.460000</td>\n",
       "      <td>343974.4700</td>\n",
       "      <td>253745.34000</td>\n",
       "      <td>431962.37000</td>\n",
       "      <td>1.010948e+06</td>\n",
       "      <td>5.484065e+06</td>\n",
       "    </tr>\n",
       "    <tr>\n",
       "      <th>2001</th>\n",
       "      <td>3736.189000</td>\n",
       "      <td>95784.805000</td>\n",
       "      <td>245008.6300</td>\n",
       "      <td>192025.37000</td>\n",
       "      <td>312184.21000</td>\n",
       "      <td>7.238484e+05</td>\n",
       "      <td>2.151485e+06</td>\n",
       "    </tr>\n",
       "    <tr>\n",
       "      <th>2002</th>\n",
       "      <td>3284.073759</td>\n",
       "      <td>84405.844000</td>\n",
       "      <td>228567.2700</td>\n",
       "      <td>148692.26000</td>\n",
       "      <td>214963.91000</td>\n",
       "      <td>5.511827e+05</td>\n",
       "      <td>5.572162e+06</td>\n",
       "    </tr>\n",
       "    <tr>\n",
       "      <th>2003</th>\n",
       "      <td>3276.576580</td>\n",
       "      <td>63196.299000</td>\n",
       "      <td>179620.9900</td>\n",
       "      <td>141127.69999</td>\n",
       "      <td>250288.92999</td>\n",
       "      <td>6.662669e+05</td>\n",
       "      <td>3.179796e+06</td>\n",
       "    </tr>\n",
       "    <tr>\n",
       "      <th>2004</th>\n",
       "      <td>3232.068990</td>\n",
       "      <td>69260.065000</td>\n",
       "      <td>221212.3300</td>\n",
       "      <td>124911.17996</td>\n",
       "      <td>169170.62999</td>\n",
       "      <td>3.442183e+05</td>\n",
       "      <td>7.302204e+06</td>\n",
       "    </tr>\n",
       "    <tr>\n",
       "      <th>2005</th>\n",
       "      <td>3422.544000</td>\n",
       "      <td>99821.766000</td>\n",
       "      <td>318205.1660</td>\n",
       "      <td>235078.88002</td>\n",
       "      <td>357425.45000</td>\n",
       "      <td>8.375464e+05</td>\n",
       "      <td>7.813605e+06</td>\n",
       "    </tr>\n",
       "    <tr>\n",
       "      <th>2006</th>\n",
       "      <td>4126.796600</td>\n",
       "      <td>128457.234000</td>\n",
       "      <td>469543.0110</td>\n",
       "      <td>369433.64996</td>\n",
       "      <td>589581.75999</td>\n",
       "      <td>1.352452e+06</td>\n",
       "      <td>7.129904e+06</td>\n",
       "    </tr>\n",
       "    <tr>\n",
       "      <th>2007</th>\n",
       "      <td>4025.069000</td>\n",
       "      <td>98987.047000</td>\n",
       "      <td>310414.8420</td>\n",
       "      <td>237212.38997</td>\n",
       "      <td>356458.86998</td>\n",
       "      <td>8.251052e+05</td>\n",
       "      <td>7.433225e+06</td>\n",
       "    </tr>\n",
       "    <tr>\n",
       "      <th>2008</th>\n",
       "      <td>3387.911960</td>\n",
       "      <td>88765.080560</td>\n",
       "      <td>301234.3743</td>\n",
       "      <td>266376.32999</td>\n",
       "      <td>420646.64997</td>\n",
       "      <td>9.886740e+05</td>\n",
       "      <td>3.337448e+06</td>\n",
       "    </tr>\n",
       "    <tr>\n",
       "      <th>2009</th>\n",
       "      <td>3215.513280</td>\n",
       "      <td>80846.682544</td>\n",
       "      <td>269325.4509</td>\n",
       "      <td>216340.16999</td>\n",
       "      <td>332905.39000</td>\n",
       "      <td>7.130588e+05</td>\n",
       "      <td>4.441474e+06</td>\n",
       "    </tr>\n",
       "    <tr>\n",
       "      <th>2010</th>\n",
       "      <td>3413.850890</td>\n",
       "      <td>83587.109800</td>\n",
       "      <td>265243.3250</td>\n",
       "      <td>198991.15000</td>\n",
       "      <td>291079.78000</td>\n",
       "      <td>5.079743e+05</td>\n",
       "      <td>2.143166e+06</td>\n",
       "    </tr>\n",
       "  </tbody>\n",
       "</table>\n",
       "</div>"
      ],
      "text/plain": [
       "FIRE_SIZE_CLASS            A              B            C             D  \\\n",
       "FIRE_YEAR                                                                \n",
       "2000             3841.705000  110961.460000  343974.4700  253745.34000   \n",
       "2001             3736.189000   95784.805000  245008.6300  192025.37000   \n",
       "2002             3284.073759   84405.844000  228567.2700  148692.26000   \n",
       "2003             3276.576580   63196.299000  179620.9900  141127.69999   \n",
       "2004             3232.068990   69260.065000  221212.3300  124911.17996   \n",
       "2005             3422.544000   99821.766000  318205.1660  235078.88002   \n",
       "2006             4126.796600  128457.234000  469543.0110  369433.64996   \n",
       "2007             4025.069000   98987.047000  310414.8420  237212.38997   \n",
       "2008             3387.911960   88765.080560  301234.3743  266376.32999   \n",
       "2009             3215.513280   80846.682544  269325.4509  216340.16999   \n",
       "2010             3413.850890   83587.109800  265243.3250  198991.15000   \n",
       "\n",
       "FIRE_SIZE_CLASS             E             F             G  \n",
       "FIRE_YEAR                                                  \n",
       "2000             431962.37000  1.010948e+06  5.484065e+06  \n",
       "2001             312184.21000  7.238484e+05  2.151485e+06  \n",
       "2002             214963.91000  5.511827e+05  5.572162e+06  \n",
       "2003             250288.92999  6.662669e+05  3.179796e+06  \n",
       "2004             169170.62999  3.442183e+05  7.302204e+06  \n",
       "2005             357425.45000  8.375464e+05  7.813605e+06  \n",
       "2006             589581.75999  1.352452e+06  7.129904e+06  \n",
       "2007             356458.86998  8.251052e+05  7.433225e+06  \n",
       "2008             420646.64997  9.886740e+05  3.337448e+06  \n",
       "2009             332905.39000  7.130588e+05  4.441474e+06  \n",
       "2010             291079.78000  5.079743e+05  2.143166e+06  "
      ]
     },
     "execution_count": 12,
     "metadata": {},
     "output_type": "execute_result"
    }
   ],
   "source": [
    "df2.head(11)"
   ]
  },
  {
   "cell_type": "markdown",
   "metadata": {},
   "source": [
    "## Interpretation\n",
    "- **Based on the data from 2000 to 2010, wildfire impacted land the most during 2004 and 2007.**\n",
    "- **However, after 2007, the data shows significant decrease in the total area impacted by wildfire.**\n",
    "- **It would be interesting to find what measures were implemented after 2007 that contributed to confining area of land impacted by wildfires**"
   ]
  },
  {
   "cell_type": "markdown",
   "metadata": {},
   "source": [
    "## 4. Fire Containment Time across Years\n",
    "- Perspective chosen to see which year had the most struggle to contain wildfires from 2000 to 2010.\n",
    "- Will be using a subset of data due to presence of empty records.\n",
    "- Requires data engineering, involving transformation of time records. "
   ]
  },
  {
   "cell_type": "markdown",
   "metadata": {},
   "source": [
    "### Feature Engineering\n",
    "- **The recorded values of time needed to be formatted into appropriate units of time before calculating the difference between the containment time and discovery time.**\n",
    "- The recorded values are stored as float-type in the dataframe.\n",
    "- Ranging from 1 to 2359\n",
    "- **In addition, the difference in Discovery Day and Containment Day should be accounted for in a unit of hours**"
   ]
  },
  {
   "cell_type": "code",
   "execution_count": 13,
   "metadata": {},
   "outputs": [
    {
     "data": {
      "text/html": [
       "<div>\n",
       "<style scoped>\n",
       "    .dataframe tbody tr th:only-of-type {\n",
       "        vertical-align: middle;\n",
       "    }\n",
       "\n",
       "    .dataframe tbody tr th {\n",
       "        vertical-align: top;\n",
       "    }\n",
       "\n",
       "    .dataframe thead th {\n",
       "        text-align: right;\n",
       "    }\n",
       "</style>\n",
       "<table border=\"1\" class=\"dataframe\">\n",
       "  <thead>\n",
       "    <tr style=\"text-align: right;\">\n",
       "      <th></th>\n",
       "      <th>FIRE_YEAR</th>\n",
       "      <th>DISCOVERY_DOY</th>\n",
       "      <th>DISCOVERY_TIME</th>\n",
       "      <th>CONT_DOY</th>\n",
       "      <th>CONT_TIME</th>\n",
       "      <th>STAT_CAUSE_CODE</th>\n",
       "      <th>STAT_CAUSE_DESCR</th>\n",
       "      <th>FIRE_SIZE</th>\n",
       "      <th>FIRE_SIZE_CLASS</th>\n",
       "      <th>LATITUDE</th>\n",
       "      <th>LONGITUDE</th>\n",
       "      <th>STATE</th>\n",
       "      <th>DISCOVERY_Month</th>\n",
       "    </tr>\n",
       "  </thead>\n",
       "  <tbody>\n",
       "    <tr>\n",
       "      <th>1388</th>\n",
       "      <td>2010</td>\n",
       "      <td>135</td>\n",
       "      <td>639.0</td>\n",
       "      <td>136.0</td>\n",
       "      <td>639.0</td>\n",
       "      <td>5</td>\n",
       "      <td>Debris Burning</td>\n",
       "      <td>0.2</td>\n",
       "      <td>A</td>\n",
       "      <td>64.116669</td>\n",
       "      <td>-145.666672</td>\n",
       "      <td>AK</td>\n",
       "      <td>May</td>\n",
       "    </tr>\n",
       "    <tr>\n",
       "      <th>1389</th>\n",
       "      <td>2010</td>\n",
       "      <td>135</td>\n",
       "      <td>613.0</td>\n",
       "      <td>136.0</td>\n",
       "      <td>613.0</td>\n",
       "      <td>5</td>\n",
       "      <td>Debris Burning</td>\n",
       "      <td>0.1</td>\n",
       "      <td>A</td>\n",
       "      <td>64.066666</td>\n",
       "      <td>-145.616669</td>\n",
       "      <td>AK</td>\n",
       "      <td>May</td>\n",
       "    </tr>\n",
       "    <tr>\n",
       "      <th>1392</th>\n",
       "      <td>2010</td>\n",
       "      <td>135</td>\n",
       "      <td>832.0</td>\n",
       "      <td>136.0</td>\n",
       "      <td>834.0</td>\n",
       "      <td>5</td>\n",
       "      <td>Debris Burning</td>\n",
       "      <td>0.2</td>\n",
       "      <td>A</td>\n",
       "      <td>61.583332</td>\n",
       "      <td>-149.550003</td>\n",
       "      <td>AK</td>\n",
       "      <td>May</td>\n",
       "    </tr>\n",
       "    <tr>\n",
       "      <th>1407</th>\n",
       "      <td>2010</td>\n",
       "      <td>174</td>\n",
       "      <td>1838.0</td>\n",
       "      <td>179.0</td>\n",
       "      <td>2320.0</td>\n",
       "      <td>1</td>\n",
       "      <td>Lightning</td>\n",
       "      <td>2777.0</td>\n",
       "      <td>F</td>\n",
       "      <td>65.760834</td>\n",
       "      <td>-162.574448</td>\n",
       "      <td>AK</td>\n",
       "      <td>June</td>\n",
       "    </tr>\n",
       "    <tr>\n",
       "      <th>1463</th>\n",
       "      <td>2010</td>\n",
       "      <td>280</td>\n",
       "      <td>638.0</td>\n",
       "      <td>283.0</td>\n",
       "      <td>645.0</td>\n",
       "      <td>13</td>\n",
       "      <td>Missing/Undefined</td>\n",
       "      <td>0.1</td>\n",
       "      <td>A</td>\n",
       "      <td>64.900002</td>\n",
       "      <td>-147.733337</td>\n",
       "      <td>AK</td>\n",
       "      <td>October</td>\n",
       "    </tr>\n",
       "  </tbody>\n",
       "</table>\n",
       "</div>"
      ],
      "text/plain": [
       "      FIRE_YEAR  DISCOVERY_DOY  DISCOVERY_TIME  CONT_DOY  CONT_TIME  \\\n",
       "1388       2010            135           639.0     136.0      639.0   \n",
       "1389       2010            135           613.0     136.0      613.0   \n",
       "1392       2010            135           832.0     136.0      834.0   \n",
       "1407       2010            174          1838.0     179.0     2320.0   \n",
       "1463       2010            280           638.0     283.0      645.0   \n",
       "\n",
       "      STAT_CAUSE_CODE   STAT_CAUSE_DESCR  FIRE_SIZE FIRE_SIZE_CLASS  \\\n",
       "1388                5     Debris Burning        0.2               A   \n",
       "1389                5     Debris Burning        0.1               A   \n",
       "1392                5     Debris Burning        0.2               A   \n",
       "1407                1          Lightning     2777.0               F   \n",
       "1463               13  Missing/Undefined        0.1               A   \n",
       "\n",
       "       LATITUDE   LONGITUDE STATE DISCOVERY_Month  \n",
       "1388  64.116669 -145.666672    AK             May  \n",
       "1389  64.066666 -145.616669    AK             May  \n",
       "1392  61.583332 -149.550003    AK             May  \n",
       "1407  65.760834 -162.574448    AK            June  \n",
       "1463  64.900002 -147.733337    AK         October  "
      ]
     },
     "execution_count": 13,
     "metadata": {},
     "output_type": "execute_result"
    }
   ],
   "source": [
    "df_fire_contained = df.dropna(subset=['DISCOVERY_TIME', 'CONT_DOY', 'CONT_TIME'])\n",
    "df_fire_contained.head()\n"
   ]
  },
  {
   "cell_type": "code",
   "execution_count": 14,
   "metadata": {},
   "outputs": [
    {
     "name": "stdout",
     "output_type": "stream",
     "text": [
      "Number of data: 368015\n"
     ]
    }
   ],
   "source": [
    "print(f'Number of data: {len(df_fire_contained)}')"
   ]
  },
  {
   "cell_type": "code",
   "execution_count": 15,
   "metadata": {},
   "outputs": [
    {
     "name": "stdout",
     "output_type": "stream",
     "text": [
      "00:01:00\n",
      "00:10:00\n",
      "05:20:00\n",
      "13:59:00\n"
     ]
    }
   ],
   "source": [
    "# Defining a function to format recorded values of time into proper time format\n",
    "def format_time(time_record):\n",
    "    time_int = int(time_record)     # used to format possible float values in the dataframe into integer values\n",
    "    time_str = str(time_int)        # used to take advantage of string slicing\n",
    "\n",
    "    if len(time_str) == 1:\n",
    "        time_str = '00:0' + time_str[:1]\n",
    "    elif len(time_str) == 2:\n",
    "        time_str = '00:' + time_str[:2]\n",
    "    elif len(time_str) == 3:\n",
    "        time_str = '0' + time_str[:1] + ':' + time_str[1:]\n",
    "    elif len(time_str) == 4:\n",
    "        time_str = time_str[:2] + ':' + time_str[2:]\n",
    "\n",
    "    time_str_final = time_str + ':00'\n",
    "    time_obj = datetime.strptime(time_str_final, '%H:%M:%S')\n",
    "    return time_obj.time()\n",
    "\n",
    "# testing the function\n",
    "print(format_time(1))       # should return 00:01:00\n",
    "print(format_time(10))      # should return 00:10:00\n",
    "print(format_time(520))     # should return 05:20:00\n",
    "print(format_time(1359))    # should return 13:59:00\n"
   ]
  },
  {
   "cell_type": "code",
   "execution_count": 16,
   "metadata": {},
   "outputs": [
    {
     "name": "stdout",
     "output_type": "stream",
     "text": [
      "2000-01-01 00:01:00\n",
      "2005-01-25 01:23:00\n",
      "48.0\n"
     ]
    }
   ],
   "source": [
    "# Converting day of year to a valid date\n",
    "def get_valid_date(year, day_of_year):\n",
    "\treturn datetime(year, 1, 1) + timedelta(days=day_of_year - 1)\n",
    "\n",
    "def get_datetime_obj(year, day_of_year, time_float):\n",
    "    date = get_valid_date(year, day_of_year)\n",
    "    time = format_time(time_float)\n",
    "    return datetime.combine(date, time)\n",
    "\n",
    "# Testing the function\n",
    "print(get_datetime_obj(2000, 1, 1))         # should return 2000-01-01 00:01:00\n",
    "print(get_datetime_obj(2005, 25, 123))      # should return 2005-01-25 01:23:00\n",
    "\n",
    "def difference_in_hours_between_two_datetime_obj(datetime_obj1, datetime_obj2):\n",
    "    result = (datetime_obj2 - datetime_obj1).total_seconds() / 3600     # converting total seconds into an hour\n",
    "    return round(result, 2)                                             # rounding hours into 2 decimal places\n",
    "\n",
    "# Testing the function\n",
    "datetime_obj1 = get_datetime_obj(2000, 1, 130)      # 2000-01-01 01:30:00\n",
    "datetime_obj2 = get_datetime_obj(2000, 3, 130)      # 2000-01-03 01:30:00\n",
    "print(difference_in_hours_between_two_datetime_obj(datetime_obj1, datetime_obj2))   # should return 48.0 (hours)\n",
    "\n"
   ]
  },
  {
   "cell_type": "code",
   "execution_count": null,
   "metadata": {},
   "outputs": [],
   "source": [
    "df_fire_contained['DISCOVERY_DATETIME'] = df_fire_contained.apply(lambda x: get_datetime_obj(x['FIRE_YEAR'], x['DISCOVERY_DOY'], x['DISCOVERY_TIME']), axis=1)\n",
    "df_fire_contained['CONTAINED_DATETIME'] = df_fire_contained.apply(lambda x: get_datetime_obj(x['FIRE_YEAR'], x['CONT_DOY'], x['CONT_TIME']), axis=1)\n",
    "df_fire_contained['HOURS_TO_CONTAIN'] = df_fire_contained.apply(lambda x: difference_in_hours_between_two_datetime_obj(x['DISCOVERY_DATETIME'], x['CONTAINED_DATETIME']), axis=1)\n",
    "\n",
    "df_fire_contained.head()"
   ]
  },
  {
   "cell_type": "code",
   "execution_count": 18,
   "metadata": {},
   "outputs": [
    {
     "data": {
      "text/html": [
       "<div>\n",
       "<style scoped>\n",
       "    .dataframe tbody tr th:only-of-type {\n",
       "        vertical-align: middle;\n",
       "    }\n",
       "\n",
       "    .dataframe tbody tr th {\n",
       "        vertical-align: top;\n",
       "    }\n",
       "\n",
       "    .dataframe thead th {\n",
       "        text-align: right;\n",
       "    }\n",
       "</style>\n",
       "<table border=\"1\" class=\"dataframe\">\n",
       "  <thead>\n",
       "    <tr style=\"text-align: right;\">\n",
       "      <th></th>\n",
       "      <th>FIRE_YEAR</th>\n",
       "      <th>STAT_CAUSE_CODE</th>\n",
       "      <th>STAT_CAUSE_DESCR</th>\n",
       "      <th>FIRE_SIZE</th>\n",
       "      <th>FIRE_SIZE_CLASS</th>\n",
       "      <th>LATITUDE</th>\n",
       "      <th>LONGITUDE</th>\n",
       "      <th>STATE</th>\n",
       "      <th>DISCOVERY_Month</th>\n",
       "      <th>DISCOVERY_DATETIME</th>\n",
       "      <th>CONTAINED_DATETIME</th>\n",
       "      <th>HOURS_TO_CONTAIN</th>\n",
       "    </tr>\n",
       "  </thead>\n",
       "  <tbody>\n",
       "    <tr>\n",
       "      <th>1388</th>\n",
       "      <td>2010</td>\n",
       "      <td>5</td>\n",
       "      <td>Debris Burning</td>\n",
       "      <td>0.2</td>\n",
       "      <td>A</td>\n",
       "      <td>64.116669</td>\n",
       "      <td>-145.666672</td>\n",
       "      <td>AK</td>\n",
       "      <td>May</td>\n",
       "      <td>2010-05-15 06:39:00</td>\n",
       "      <td>2010-05-16 06:39:00</td>\n",
       "      <td>24.00</td>\n",
       "    </tr>\n",
       "    <tr>\n",
       "      <th>1389</th>\n",
       "      <td>2010</td>\n",
       "      <td>5</td>\n",
       "      <td>Debris Burning</td>\n",
       "      <td>0.1</td>\n",
       "      <td>A</td>\n",
       "      <td>64.066666</td>\n",
       "      <td>-145.616669</td>\n",
       "      <td>AK</td>\n",
       "      <td>May</td>\n",
       "      <td>2010-05-15 06:13:00</td>\n",
       "      <td>2010-05-16 06:13:00</td>\n",
       "      <td>24.00</td>\n",
       "    </tr>\n",
       "    <tr>\n",
       "      <th>1392</th>\n",
       "      <td>2010</td>\n",
       "      <td>5</td>\n",
       "      <td>Debris Burning</td>\n",
       "      <td>0.2</td>\n",
       "      <td>A</td>\n",
       "      <td>61.583332</td>\n",
       "      <td>-149.550003</td>\n",
       "      <td>AK</td>\n",
       "      <td>May</td>\n",
       "      <td>2010-05-15 08:32:00</td>\n",
       "      <td>2010-05-16 08:34:00</td>\n",
       "      <td>24.03</td>\n",
       "    </tr>\n",
       "    <tr>\n",
       "      <th>1407</th>\n",
       "      <td>2010</td>\n",
       "      <td>1</td>\n",
       "      <td>Lightning</td>\n",
       "      <td>2777.0</td>\n",
       "      <td>F</td>\n",
       "      <td>65.760834</td>\n",
       "      <td>-162.574448</td>\n",
       "      <td>AK</td>\n",
       "      <td>June</td>\n",
       "      <td>2010-06-23 18:38:00</td>\n",
       "      <td>2010-06-28 23:20:00</td>\n",
       "      <td>124.70</td>\n",
       "    </tr>\n",
       "    <tr>\n",
       "      <th>1463</th>\n",
       "      <td>2010</td>\n",
       "      <td>13</td>\n",
       "      <td>Missing/Undefined</td>\n",
       "      <td>0.1</td>\n",
       "      <td>A</td>\n",
       "      <td>64.900002</td>\n",
       "      <td>-147.733337</td>\n",
       "      <td>AK</td>\n",
       "      <td>October</td>\n",
       "      <td>2010-10-07 06:38:00</td>\n",
       "      <td>2010-10-10 06:45:00</td>\n",
       "      <td>72.12</td>\n",
       "    </tr>\n",
       "  </tbody>\n",
       "</table>\n",
       "</div>"
      ],
      "text/plain": [
       "      FIRE_YEAR  STAT_CAUSE_CODE   STAT_CAUSE_DESCR  FIRE_SIZE  \\\n",
       "1388       2010                5     Debris Burning        0.2   \n",
       "1389       2010                5     Debris Burning        0.1   \n",
       "1392       2010                5     Debris Burning        0.2   \n",
       "1407       2010                1          Lightning     2777.0   \n",
       "1463       2010               13  Missing/Undefined        0.1   \n",
       "\n",
       "     FIRE_SIZE_CLASS   LATITUDE   LONGITUDE STATE DISCOVERY_Month  \\\n",
       "1388               A  64.116669 -145.666672    AK             May   \n",
       "1389               A  64.066666 -145.616669    AK             May   \n",
       "1392               A  61.583332 -149.550003    AK             May   \n",
       "1407               F  65.760834 -162.574448    AK            June   \n",
       "1463               A  64.900002 -147.733337    AK         October   \n",
       "\n",
       "      DISCOVERY_DATETIME  CONTAINED_DATETIME  HOURS_TO_CONTAIN  \n",
       "1388 2010-05-15 06:39:00 2010-05-16 06:39:00             24.00  \n",
       "1389 2010-05-15 06:13:00 2010-05-16 06:13:00             24.00  \n",
       "1392 2010-05-15 08:32:00 2010-05-16 08:34:00             24.03  \n",
       "1407 2010-06-23 18:38:00 2010-06-28 23:20:00            124.70  \n",
       "1463 2010-10-07 06:38:00 2010-10-10 06:45:00             72.12  "
      ]
     },
     "execution_count": 18,
     "metadata": {},
     "output_type": "execute_result"
    }
   ],
   "source": [
    "# Creating a new dataframe by eliminating the rows with null values in the columns 'DISCOVERY_TIME', 'CONT_DOY', and 'CONT_TIME'\n",
    "deprecated_columns = ['DISCOVERY_DOY', 'DISCOVERY_TIME', 'CONT_DOY', 'CONT_TIME']\n",
    "df_fire_contained = df_fire_contained.drop(columns=[col for col in deprecated_columns if col in df_fire_contained.columns])\n",
    "\n",
    "df_fire_contained.head()\n"
   ]
  },
  {
   "cell_type": "code",
   "execution_count": 19,
   "metadata": {},
   "outputs": [
    {
     "data": {
      "text/plain": [
       "FIRE_YEAR  FIRE_SIZE_CLASS\n",
       "2000       A                   14.582937\n",
       "           B                   14.230623\n",
       "           C                   46.201558\n",
       "           D                  105.956620\n",
       "           E                  164.508413\n",
       "Name: HOURS_TO_CONTAIN, dtype: float64"
      ]
     },
     "execution_count": 19,
     "metadata": {},
     "output_type": "execute_result"
    }
   ],
   "source": [
    "df_fire_contained_average_time_lapse = df_fire_contained.groupby(['FIRE_YEAR','FIRE_SIZE_CLASS'])['HOURS_TO_CONTAIN'].mean()\n",
    "df_fire_contained_average_time_lapse.head()"
   ]
  },
  {
   "cell_type": "code",
   "execution_count": 20,
   "metadata": {},
   "outputs": [
    {
     "data": {
      "text/html": [
       "<div>\n",
       "<style scoped>\n",
       "    .dataframe tbody tr th:only-of-type {\n",
       "        vertical-align: middle;\n",
       "    }\n",
       "\n",
       "    .dataframe tbody tr th {\n",
       "        vertical-align: top;\n",
       "    }\n",
       "\n",
       "    .dataframe thead th {\n",
       "        text-align: right;\n",
       "    }\n",
       "</style>\n",
       "<table border=\"1\" class=\"dataframe\">\n",
       "  <thead>\n",
       "    <tr style=\"text-align: right;\">\n",
       "      <th>FIRE_SIZE_CLASS</th>\n",
       "      <th>A</th>\n",
       "      <th>B</th>\n",
       "      <th>C</th>\n",
       "      <th>D</th>\n",
       "      <th>E</th>\n",
       "      <th>F</th>\n",
       "      <th>G</th>\n",
       "    </tr>\n",
       "    <tr>\n",
       "      <th>FIRE_YEAR</th>\n",
       "      <th></th>\n",
       "      <th></th>\n",
       "      <th></th>\n",
       "      <th></th>\n",
       "      <th></th>\n",
       "      <th></th>\n",
       "      <th></th>\n",
       "    </tr>\n",
       "  </thead>\n",
       "  <tbody>\n",
       "    <tr>\n",
       "      <th>2000</th>\n",
       "      <td>14.582937</td>\n",
       "      <td>14.230623</td>\n",
       "      <td>46.201558</td>\n",
       "      <td>105.956620</td>\n",
       "      <td>164.508413</td>\n",
       "      <td>362.635049</td>\n",
       "      <td>703.019087</td>\n",
       "    </tr>\n",
       "    <tr>\n",
       "      <th>2001</th>\n",
       "      <td>11.441699</td>\n",
       "      <td>9.601865</td>\n",
       "      <td>18.399035</td>\n",
       "      <td>100.930020</td>\n",
       "      <td>149.097386</td>\n",
       "      <td>297.918278</td>\n",
       "      <td>436.493214</td>\n",
       "    </tr>\n",
       "    <tr>\n",
       "      <th>2002</th>\n",
       "      <td>11.427987</td>\n",
       "      <td>10.358667</td>\n",
       "      <td>34.285862</td>\n",
       "      <td>108.754820</td>\n",
       "      <td>179.272943</td>\n",
       "      <td>312.706413</td>\n",
       "      <td>948.769037</td>\n",
       "    </tr>\n",
       "    <tr>\n",
       "      <th>2003</th>\n",
       "      <td>17.588272</td>\n",
       "      <td>18.502715</td>\n",
       "      <td>47.769148</td>\n",
       "      <td>119.149854</td>\n",
       "      <td>324.425083</td>\n",
       "      <td>574.659912</td>\n",
       "      <td>1035.459099</td>\n",
       "    </tr>\n",
       "    <tr>\n",
       "      <th>2004</th>\n",
       "      <td>14.246771</td>\n",
       "      <td>10.664277</td>\n",
       "      <td>27.974980</td>\n",
       "      <td>87.704083</td>\n",
       "      <td>202.441551</td>\n",
       "      <td>438.578803</td>\n",
       "      <td>1500.120495</td>\n",
       "    </tr>\n",
       "  </tbody>\n",
       "</table>\n",
       "</div>"
      ],
      "text/plain": [
       "FIRE_SIZE_CLASS          A          B          C           D           E  \\\n",
       "FIRE_YEAR                                                                  \n",
       "2000             14.582937  14.230623  46.201558  105.956620  164.508413   \n",
       "2001             11.441699   9.601865  18.399035  100.930020  149.097386   \n",
       "2002             11.427987  10.358667  34.285862  108.754820  179.272943   \n",
       "2003             17.588272  18.502715  47.769148  119.149854  324.425083   \n",
       "2004             14.246771  10.664277  27.974980   87.704083  202.441551   \n",
       "\n",
       "FIRE_SIZE_CLASS           F            G  \n",
       "FIRE_YEAR                                 \n",
       "2000             362.635049   703.019087  \n",
       "2001             297.918278   436.493214  \n",
       "2002             312.706413   948.769037  \n",
       "2003             574.659912  1035.459099  \n",
       "2004             438.578803  1500.120495  "
      ]
     },
     "execution_count": 20,
     "metadata": {},
     "output_type": "execute_result"
    }
   ],
   "source": [
    "df_fire_contained_average_time_lapse = df_fire_contained_average_time_lapse.unstack('FIRE_SIZE_CLASS')\n",
    "df_fire_contained_average_time_lapse.head()"
   ]
  },
  {
   "cell_type": "code",
   "execution_count": 21,
   "metadata": {},
   "outputs": [
    {
     "data": {
      "text/plain": [
       "<Axes: title={'center': 'Average Time to Contain Fire by Year and Fire Size Class'}, xlabel='FIRE_YEAR', ylabel='Average Time (in hours)'>"
      ]
     },
     "execution_count": 21,
     "metadata": {},
     "output_type": "execute_result"
    },
    {
     "data": {
      "image/png": "[encoded data removed]",
      "text/plain": [
       "<Figure size 1200x800 with 1 Axes>"
      ]
     },
     "metadata": {},
     "output_type": "display_data"
    }
   ],
   "source": [
    "df_fire_contained_average_time_lapse.plot.line(stacked=True, figsize=(12, 8), title='Average Time to Contain Fire by Year and Fire Size Class', ylabel='Average Time (in hours)')"
   ]
  },
  {
   "cell_type": "markdown",
   "metadata": {},
   "source": [
    "## Interpretation\n",
    "- Based on the data from 2000 to 2010, wildfires in 2003 proved to be noticeably challenging to contain.\n",
    "- Although 2004 saw improvements in containing most wildfires, Class G fires took even more time to contain. \n",
    "    - It'd be interesting to investigate as to why this was the case.\n",
    "- **Containment efforts in 2001,2005, and 2006 could be studied more closely for improvements as the average containment times were the fastest during these years.**"
   ]
  },
  {
   "cell_type": "markdown",
   "metadata": {},
   "source": [
    "## Future Directions\n",
    "### Categorical Aspect\n",
    "- So far, only quantitative measures (Number of Incidents, Fire Size and Time) were used to analyze wildfires.\n",
    "- However, the cause of wildfires are also interesting areas to perform analysis on. "
   ]
  },
  {
   "cell_type": "code",
   "execution_count": 22,
   "metadata": {},
   "outputs": [
    {
     "data": {
      "text/plain": [
       "array(['Equipment Use', 'Miscellaneous', 'Debris Burning', 'Children',\n",
       "       'Arson', 'Smoking', 'Railroad', 'Campfire', 'Lightning',\n",
       "       'Powerline', 'Structure', 'Missing/Undefined', 'Fireworks'],\n",
       "      dtype=object)"
      ]
     },
     "execution_count": 22,
     "metadata": {},
     "output_type": "execute_result"
    }
   ],
   "source": [
    "df['STAT_CAUSE_DESCR'].unique()"
   ]
  },
  {
   "cell_type": "markdown",
   "metadata": {},
   "source": [
    "### Geographical Aspect\n",
    "- Also, using the map of United States in filtering out wildfires by states can be visually helpful. \n",
    "    - Identifying which state experienced most wildfires from 2000 to 2010. "
   ]
  },
  {
   "cell_type": "markdown",
   "metadata": {},
   "source": [
    "## Work in Progress"
   ]
  },
  {
   "cell_type": "code",
   "execution_count": 23,
   "metadata": {},
   "outputs": [],
   "source": [
    "# Defining function to create map\n",
    "def create_map(dictionary, fig, title,color):\n",
    "  # Create a Choropleth plot using state_counts_dict\n",
    "  fig.add_trace(go.Choropleth(\n",
    "      locations=list(dictionary.keys()),\n",
    "      z=list(dictionary.values()),\n",
    "      locationmode='USA-states',\n",
    "      hoverinfo=\"z+location\",\n",
    "      showscale=True,\n",
    "      colorscale=color,\n",
    "      colorbar=dict(\n",
    "          title=\"State Counts\",\n",
    "          xanchor=\"left\",\n",
    "          lenmode=\"fraction\",\n",
    "          len=0.5\n",
    "      ),\n",
    "  ))\n",
    "  fig.update_geos(scope=\"usa\")\n",
    "  fig.update_layout(title_text=title)\n",
    "\n",
    "# Create a MinMaxScaler and define the new range\n",
    "scaler = MinMaxScaler(feature_range=(1, 10))"
   ]
  },
  {
   "cell_type": "code",
   "execution_count": 24,
   "metadata": {},
   "outputs": [
    {
     "data": {
      "application/vnd.plotly.v1+json": {
       "config": {
        "plotlyServerURL": "https://plot.ly"
       },
       "data": [
        {
         "colorbar": {
          "len": 0.5,
          "lenmode": "fraction",
          "title": {
           "text": "State Counts"
          },
          "xanchor": "left"
         },
         "colorscale": [
          [
           0,
           "rgb(61, 89, 65)"
          ],
          [
           0.16666666666666666,
           "rgb(119, 136, 104)"
          ],
          [
           0.3333333333333333,
           "rgb(181, 185, 145)"
          ],
          [
           0.5,
           "rgb(246, 237, 189)"
          ],
          [
           0.6666666666666666,
           "rgb(237, 187, 138)"
          ],
          [
           0.8333333333333334,
           "rgb(222, 138, 90)"
          ],
          [
           1,
           "rgb(202, 86, 44)"
          ]
         ],
         "hoverinfo": "z+location",
         "locationmode": "USA-states",
         "locations": [
          "CA",
          "AK",
          "OR",
          "FL",
          "CO",
          "AR",
          "NC",
          "AZ",
          "WY",
          "AL",
          "LA",
          "IL",
          "ID",
          "MO",
          "MT",
          "TN",
          "GA",
          "OK",
          "KY",
          "SC",
          "MN",
          "MI",
          "VA",
          "IN",
          "PA",
          "NM",
          "WI",
          "WV",
          "UT",
          "VT",
          "SD",
          "KS",
          "TX",
          "WA",
          "NV",
          "OH",
          "NY",
          "NE",
          "ND",
          "NH",
          "MS",
          "MD",
          "NJ",
          "ME",
          "DE",
          "IA",
          "DC",
          "MA",
          "HI",
          "CT",
          "PR",
          "RI"
         ],
         "showscale": true,
         "type": "choropleth",
         "z": [
          1.5875775501370653,
          4.678040686769586,
          2.9471216274707834,
          4.355684605396046,
          10,
          2.8124008079642184,
          1.2865387389987015,
          1,
          1.0102799018900592,
          5.422197374116289,
          9.673640167364017,
          1.902034338479296,
          1.1991054681864088,
          2.6969412783148172,
          1.1550642042995238,
          1.136668590390997,
          1.1457581878516807,
          2.8944236040975326,
          3.037476554609724,
          1.041011398066657,
          1.2983335737988746,
          1.6582383494445245,
          1.5689655172413792,
          3.355396046746501,
          1.520704083104891,
          5.019549848506709,
          3.151096522868273,
          6.7656182369066515,
          1.8799596017890636,
          1.4057856009233878,
          1.1086423315538882,
          2.2622637426056844,
          2.9717933920069255,
          1.8698961188861636,
          7.1967248593276585,
          1.1624224498629345,
          3.3276944163901314,
          3.951738565863512,
          1.5740513634396192,
          3.104674650122637,
          1.025429230991199,
          4.9460756023661805,
          2.901673640167364,
          3.0771894387534267,
          9.198275862068964,
          2.71144135045448,
          2.286827297648247,
          1.006817198095513,
          2.658094070119752,
          2.659500793536286,
          2.1289496465156543,
          1.6997907949790796
         ]
        }
       ],
       "layout": {
        "geo": {
         "scope": "usa"
        },
        "template": {
         "data": {
          "bar": [
           {
            "error_x": {
             "color": "#2a3f5f"
            },
            "error_y": {
             "color": "#2a3f5f"
            },
            "marker": {
             "line": {
              "color": "#E5ECF6",
              "width": 0.5
             },
             "pattern": {
              "fillmode": "overlay",
              "size": 10,
              "solidity": 0.2
             }
            },
            "type": "bar"
           }
          ],
          "barpolar": [
           {
            "marker": {
             "line": {
              "color": "#E5ECF6",
              "width": 0.5
             },
             "pattern": {
              "fillmode": "overlay",
              "size": 10,
              "solidity": 0.2
             }
            },
            "type": "barpolar"
           }
          ],
          "carpet": [
           {
            "aaxis": {
             "endlinecolor": "#2a3f5f",
             "gridcolor": "white",
             "linecolor": "white",
             "minorgridcolor": "white",
             "startlinecolor": "#2a3f5f"
            },
            "baxis": {
             "endlinecolor": "#2a3f5f",
             "gridcolor": "white",
             "linecolor": "white",
             "minorgridcolor": "white",
             "startlinecolor": "#2a3f5f"
            },
            "type": "carpet"
           }
          ],
          "choropleth": [
           {
            "colorbar": {
             "outlinewidth": 0,
             "ticks": ""
            },
            "type": "choropleth"
           }
          ],
          "contour": [
           {
            "colorbar": {
             "outlinewidth": 0,
             "ticks": ""
            },
            "colorscale": [
             [
              0,
              "#0d0887"
             ],
             [
              0.1111111111111111,
              "#46039f"
             ],
             [
              0.2222222222222222,
              "#7201a8"
             ],
             [
              0.3333333333333333,
              "#9c179e"
             ],
             [
              0.4444444444444444,
              "#bd3786"
             ],
             [
              0.5555555555555556,
              "#d8576b"
             ],
             [
              0.6666666666666666,
              "#ed7953"
             ],
             [
              0.7777777777777778,
              "#fb9f3a"
             ],
             [
              0.8888888888888888,
              "#fdca26"
             ],
             [
              1,
              "#f0f921"
             ]
            ],
            "type": "contour"
           }
          ],
          "contourcarpet": [
           {
            "colorbar": {
             "outlinewidth": 0,
             "ticks": ""
            },
            "type": "contourcarpet"
           }
          ],
          "heatmap": [
           {
            "colorbar": {
             "outlinewidth": 0,
             "ticks": ""
            },
            "colorscale": [
             [
              0,
              "#0d0887"
             ],
             [
              0.1111111111111111,
              "#46039f"
             ],
             [
              0.2222222222222222,
              "#7201a8"
             ],
             [
              0.3333333333333333,
              "#9c179e"
             ],
             [
              0.4444444444444444,
              "#bd3786"
             ],
             [
              0.5555555555555556,
              "#d8576b"
             ],
             [
              0.6666666666666666,
              "#ed7953"
             ],
             [
              0.7777777777777778,
              "#fb9f3a"
             ],
             [
              0.8888888888888888,
              "#fdca26"
             ],
             [
              1,
              "#f0f921"
             ]
            ],
            "type": "heatmap"
           }
          ],
          "heatmapgl": [
           {
            "colorbar": {
             "outlinewidth": 0,
             "ticks": ""
            },
            "colorscale": [
             [
              0,
              "#0d0887"
             ],
             [
              0.1111111111111111,
              "#46039f"
             ],
             [
              0.2222222222222222,
              "#7201a8"
             ],
             [
              0.3333333333333333,
              "#9c179e"
             ],
             [
              0.4444444444444444,
              "#bd3786"
             ],
             [
              0.5555555555555556,
              "#d8576b"
             ],
             [
              0.6666666666666666,
              "#ed7953"
             ],
             [
              0.7777777777777778,
              "#fb9f3a"
             ],
             [
              0.8888888888888888,
              "#fdca26"
             ],
             [
              1,
              "#f0f921"
             ]
            ],
            "type": "heatmapgl"
           }
          ],
          "histogram": [
           {
            "marker": {
             "pattern": {
              "fillmode": "overlay",
              "size": 10,
              "solidity": 0.2
             }
            },
            "type": "histogram"
           }
          ],
          "histogram2d": [
           {
            "colorbar": {
             "outlinewidth": 0,
             "ticks": ""
            },
            "colorscale": [
             [
              0,
              "#0d0887"
             ],
             [
              0.1111111111111111,
              "#46039f"
             ],
             [
              0.2222222222222222,
              "#7201a8"
             ],
             [
              0.3333333333333333,
              "#9c179e"
             ],
             [
              0.4444444444444444,
              "#bd3786"
             ],
             [
              0.5555555555555556,
              "#d8576b"
             ],
             [
              0.6666666666666666,
              "#ed7953"
             ],
             [
              0.7777777777777778,
              "#fb9f3a"
             ],
             [
              0.8888888888888888,
              "#fdca26"
             ],
             [
              1,
              "#f0f921"
             ]
            ],
            "type": "histogram2d"
           }
          ],
          "histogram2dcontour": [
           {
            "colorbar": {
             "outlinewidth": 0,
             "ticks": ""
            },
            "colorscale": [
             [
              0,
              "#0d0887"
             ],
             [
              0.1111111111111111,
              "#46039f"
             ],
             [
              0.2222222222222222,
              "#7201a8"
             ],
             [
              0.3333333333333333,
              "#9c179e"
             ],
             [
              0.4444444444444444,
              "#bd3786"
             ],
             [
              0.5555555555555556,
              "#d8576b"
             ],
             [
              0.6666666666666666,
              "#ed7953"
             ],
             [
              0.7777777777777778,
              "#fb9f3a"
             ],
             [
              0.8888888888888888,
              "#fdca26"
             ],
             [
              1,
              "#f0f921"
             ]
            ],
            "type": "histogram2dcontour"
           }
          ],
          "mesh3d": [
           {
            "colorbar": {
             "outlinewidth": 0,
             "ticks": ""
            },
            "type": "mesh3d"
           }
          ],
          "parcoords": [
           {
            "line": {
             "colorbar": {
              "outlinewidth": 0,
              "ticks": ""
             }
            },
            "type": "parcoords"
           }
          ],
          "pie": [
           {
            "automargin": true,
            "type": "pie"
           }
          ],
          "scatter": [
           {
            "fillpattern": {
             "fillmode": "overlay",
             "size": 10,
             "solidity": 0.2
            },
            "type": "scatter"
           }
          ],
          "scatter3d": [
           {
            "line": {
             "colorbar": {
              "outlinewidth": 0,
              "ticks": ""
             }
            },
            "marker": {
             "colorbar": {
              "outlinewidth": 0,
              "ticks": ""
             }
            },
            "type": "scatter3d"
           }
          ],
          "scattercarpet": [
           {
            "marker": {
             "colorbar": {
              "outlinewidth": 0,
              "ticks": ""
             }
            },
            "type": "scattercarpet"
           }
          ],
          "scattergeo": [
           {
            "marker": {
             "colorbar": {
              "outlinewidth": 0,
              "ticks": ""
             }
            },
            "type": "scattergeo"
           }
          ],
          "scattergl": [
           {
            "marker": {
             "colorbar": {
              "outlinewidth": 0,
              "ticks": ""
             }
            },
            "type": "scattergl"
           }
          ],
          "scattermapbox": [
           {
            "marker": {
             "colorbar": {
              "outlinewidth": 0,
              "ticks": ""
             }
            },
            "type": "scattermapbox"
           }
          ],
          "scatterpolar": [
           {
            "marker": {
             "colorbar": {
              "outlinewidth": 0,
              "ticks": ""
             }
            },
            "type": "scatterpolar"
           }
          ],
          "scatterpolargl": [
           {
            "marker": {
             "colorbar": {
              "outlinewidth": 0,
              "ticks": ""
             }
            },
            "type": "scatterpolargl"
           }
          ],
          "scatterternary": [
           {
            "marker": {
             "colorbar": {
              "outlinewidth": 0,
              "ticks": ""
             }
            },
            "type": "scatterternary"
           }
          ],
          "surface": [
           {
            "colorbar": {
             "outlinewidth": 0,
             "ticks": ""
            },
            "colorscale": [
             [
              0,
              "#0d0887"
             ],
             [
              0.1111111111111111,
              "#46039f"
             ],
             [
              0.2222222222222222,
              "#7201a8"
             ],
             [
              0.3333333333333333,
              "#9c179e"
             ],
             [
              0.4444444444444444,
              "#bd3786"
             ],
             [
              0.5555555555555556,
              "#d8576b"
             ],
             [
              0.6666666666666666,
              "#ed7953"
             ],
             [
              0.7777777777777778,
              "#fb9f3a"
             ],
             [
              0.8888888888888888,
              "#fdca26"
             ],
             [
              1,
              "#f0f921"
             ]
            ],
            "type": "surface"
           }
          ],
          "table": [
           {
            "cells": {
             "fill": {
              "color": "#EBF0F8"
             },
             "line": {
              "color": "white"
             }
            },
            "header": {
             "fill": {
              "color": "#C8D4E3"
             },
             "line": {
              "color": "white"
             }
            },
            "type": "table"
           }
          ]
         },
         "layout": {
          "annotationdefaults": {
           "arrowcolor": "#2a3f5f",
           "arrowhead": 0,
           "arrowwidth": 1
          },
          "autotypenumbers": "strict",
          "coloraxis": {
           "colorbar": {
            "outlinewidth": 0,
            "ticks": ""
           }
          },
          "colorscale": {
           "diverging": [
            [
             0,
             "#8e0152"
            ],
            [
             0.1,
             "#c51b7d"
            ],
            [
             0.2,
             "#de77ae"
            ],
            [
             0.3,
             "#f1b6da"
            ],
            [
             0.4,
             "#fde0ef"
            ],
            [
             0.5,
             "#f7f7f7"
            ],
            [
             0.6,
             "#e6f5d0"
            ],
            [
             0.7,
             "#b8e186"
            ],
            [
             0.8,
             "#7fbc41"
            ],
            [
             0.9,
             "#4d9221"
            ],
            [
             1,
             "#276419"
            ]
           ],
           "sequential": [
            [
             0,
             "#0d0887"
            ],
            [
             0.1111111111111111,
             "#46039f"
            ],
            [
             0.2222222222222222,
             "#7201a8"
            ],
            [
             0.3333333333333333,
             "#9c179e"
            ],
            [
             0.4444444444444444,
             "#bd3786"
            ],
            [
             0.5555555555555556,
             "#d8576b"
            ],
            [
             0.6666666666666666,
             "#ed7953"
            ],
            [
             0.7777777777777778,
             "#fb9f3a"
            ],
            [
             0.8888888888888888,
             "#fdca26"
            ],
            [
             1,
             "#f0f921"
            ]
           ],
           "sequentialminus": [
            [
             0,
             "#0d0887"
            ],
            [
             0.1111111111111111,
             "#46039f"
            ],
            [
             0.2222222222222222,
             "#7201a8"
            ],
            [
             0.3333333333333333,
             "#9c179e"
            ],
            [
             0.4444444444444444,
             "#bd3786"
            ],
            [
             0.5555555555555556,
             "#d8576b"
            ],
            [
             0.6666666666666666,
             "#ed7953"
            ],
            [
             0.7777777777777778,
             "#fb9f3a"
            ],
            [
             0.8888888888888888,
             "#fdca26"
            ],
            [
             1,
             "#f0f921"
            ]
           ]
          },
          "colorway": [
           "#636efa",
           "#EF553B",
           "#00cc96",
           "#ab63fa",
           "#FFA15A",
           "#19d3f3",
           "#FF6692",
           "#B6E880",
           "#FF97FF",
           "#FECB52"
          ],
          "font": {
           "color": "#2a3f5f"
          },
          "geo": {
           "bgcolor": "white",
           "lakecolor": "white",
           "landcolor": "#E5ECF6",
           "showlakes": true,
           "showland": true,
           "subunitcolor": "white"
          },
          "hoverlabel": {
           "align": "left"
          },
          "hovermode": "closest",
          "mapbox": {
           "style": "light"
          },
          "paper_bgcolor": "white",
          "plot_bgcolor": "#E5ECF6",
          "polar": {
           "angularaxis": {
            "gridcolor": "white",
            "linecolor": "white",
            "ticks": ""
           },
           "bgcolor": "#E5ECF6",
           "radialaxis": {
            "gridcolor": "white",
            "linecolor": "white",
            "ticks": ""
           }
          },
          "scene": {
           "xaxis": {
            "backgroundcolor": "#E5ECF6",
            "gridcolor": "white",
            "gridwidth": 2,
            "linecolor": "white",
            "showbackground": true,
            "ticks": "",
            "zerolinecolor": "white"
           },
           "yaxis": {
            "backgroundcolor": "#E5ECF6",
            "gridcolor": "white",
            "gridwidth": 2,
            "linecolor": "white",
            "showbackground": true,
            "ticks": "",
            "zerolinecolor": "white"
           },
           "zaxis": {
            "backgroundcolor": "#E5ECF6",
            "gridcolor": "white",
            "gridwidth": 2,
            "linecolor": "white",
            "showbackground": true,
            "ticks": "",
            "zerolinecolor": "white"
           }
          },
          "shapedefaults": {
           "line": {
            "color": "#2a3f5f"
           }
          },
          "ternary": {
           "aaxis": {
            "gridcolor": "white",
            "linecolor": "white",
            "ticks": ""
           },
           "baxis": {
            "gridcolor": "white",
            "linecolor": "white",
            "ticks": ""
           },
           "bgcolor": "#E5ECF6",
           "caxis": {
            "gridcolor": "white",
            "linecolor": "white",
            "ticks": ""
           }
          },
          "title": {
           "x": 0.05
          },
          "xaxis": {
           "automargin": true,
           "gridcolor": "white",
           "linecolor": "white",
           "ticks": "",
           "title": {
            "standoff": 15
           },
           "zerolinecolor": "white",
           "zerolinewidth": 2
          },
          "yaxis": {
           "automargin": true,
           "gridcolor": "white",
           "linecolor": "white",
           "ticks": "",
           "title": {
            "standoff": 15
           },
           "zerolinecolor": "white",
           "zerolinewidth": 2
          }
         }
        },
        "title": {
         "text": "Number of Incidents per state"
        }
       }
      }
     },
     "metadata": {},
     "output_type": "display_data"
    }
   ],
   "source": [
    "# Group by 'State' and get the count of data in each group\n",
    "count_of_states = df.groupby('STATE').size()\n",
    "\n",
    "# Fit and transform the count_of_states column\n",
    "count_of_states = scaler.fit_transform(count_of_states.values.reshape(-1, 1))\n",
    "\n",
    "# Create a dictionary to map state codes to counts\n",
    "count_of_states = dict(zip(df['STATE'].unique(), count_of_states.ravel()))\n",
    "\n",
    "# Create a plot\n",
    "fig_size_of_fire= go.Figure()\n",
    "\n",
    "# Call the create_map function to create the map and show data on the map\n",
    "create_map(count_of_states, fig_size_of_fire, 'Number of Incidents per state','fall')\n",
    "\n",
    "# Display the map\n",
    "fig_size_of_fire.show()"
   ]
  },
  {
   "cell_type": "code",
   "execution_count": 25,
   "metadata": {},
   "outputs": [],
   "source": [
    "def creating_categorical_maps(column_name, value, figure, title, color):\n",
    "  sub_df = df[df[column_name] == value][['STATE']]\n",
    "\n",
    "  # Group by 'State' and get the count of data in each group\n",
    "  count_of_states = sub_df.groupby('STATE').size()\n",
    "\n",
    "  # Fit and transform the count_of_states column\n",
    "  count_of_states = scaler.fit_transform(count_of_states.values.reshape(-1, 1))\n",
    "\n",
    "  # Create a dictionary to map state codes to counts\n",
    "  count_of_states = dict(zip(df['STATE'].unique(), count_of_states.ravel()))\n",
    "\n",
    "  # Call the create_map function to create the map and show data on the map\n",
    "  create_map(count_of_states, figure, title, color)"
   ]
  },
  {
   "cell_type": "code",
   "execution_count": 26,
   "metadata": {},
   "outputs": [
    {
     "data": {
      "application/vnd.plotly.v1+json": {
       "config": {
        "plotlyServerURL": "https://plot.ly"
       },
       "data": [
        {
         "colorbar": {
          "len": 0.5,
          "lenmode": "fraction",
          "title": {
           "text": "State Counts"
          },
          "xanchor": "left"
         },
         "colorscale": [
          [
           0,
           "rgb(241, 236, 236)"
          ],
          [
           0.09090909090909091,
           "rgb(230, 209, 203)"
          ],
          [
           0.18181818181818182,
           "rgb(221, 182, 170)"
          ],
          [
           0.2727272727272727,
           "rgb(213, 156, 137)"
          ],
          [
           0.36363636363636365,
           "rgb(205, 129, 103)"
          ],
          [
           0.45454545454545453,
           "rgb(196, 102, 73)"
          ],
          [
           0.5454545454545454,
           "rgb(186, 74, 47)"
          ],
          [
           0.6363636363636364,
           "rgb(172, 44, 36)"
          ],
          [
           0.7272727272727273,
           "rgb(149, 19, 39)"
          ],
          [
           0.8181818181818182,
           "rgb(120, 14, 40)"
          ],
          [
           0.9090909090909091,
           "rgb(89, 13, 31)"
          ],
          [
           1,
           "rgb(60, 9, 17)"
          ]
         ],
         "hoverinfo": "z+location",
         "locationmode": "USA-states",
         "locations": [
          "CA",
          "AK",
          "OR",
          "FL",
          "CO",
          "AR",
          "NC",
          "AZ",
          "WY",
          "AL",
          "LA",
          "IL",
          "ID",
          "MO",
          "MT",
          "TN",
          "GA",
          "OK",
          "KY",
          "SC",
          "MN",
          "MI",
          "VA",
          "IN",
          "PA",
          "NM",
          "WI",
          "WV",
          "UT",
          "VT",
          "SD",
          "KS",
          "TX",
          "WA",
          "NV",
          "OH",
          "NY",
          "NE",
          "ND",
          "NH",
          "MS",
          "MD",
          "NJ",
          "ME",
          "DE",
          "IA",
          "DC",
          "MA",
          "HI",
          "CT",
          "PR",
          "RI"
         ],
         "showscale": true,
         "type": "choropleth",
         "z": [
          1.5713286881886348,
          1.766834631241411,
          1.0644453552571305,
          5.0904356631386065,
          10,
          3.579550112110326,
          1.3094245003254816,
          1,
          1.010198423222509,
          3.161197772259324,
          6.260216505533187,
          2.251368228174651,
          1.038406827880512,
          2.888878173445524,
          1.096342551293488,
          1.1037201340501965,
          1.0614075270631917,
          1.1304096246112303,
          1.4025122356968922,
          1.030378281939388,
          1.3107264266943126,
          1.787882440870844,
          1.3593316777973334,
          2.559924777587579,
          1.143645876027678,
          2.2561419581936977,
          3.54027533331726,
          4.985847578175856,
          1.2389034886804735,
          1.2180726667791788,
          1.056633797044145,
          2.86652843744726,
          2.970031583769318,
          1.955179979265617,
          7.924295392627239,
          1.0605395761506378,
          1.449598572702944,
          5.168551245268461,
          1.4409190635774043,
          1.3215758131012367,
          1.023217686910818,
          2.3813438773296043,
          2.6864286230923162,
          1.6594257058128603,
          2.5946428140897364,
          3.178122815054126,
          1.72538997516696,
          1.0049907177471853,
          2.96113508691564,
          2.975022301516503,
          1.677218699520216,
          1.6546519757938134
         ]
        }
       ],
       "layout": {
        "geo": {
         "scope": "usa"
        },
        "template": {
         "data": {
          "bar": [
           {
            "error_x": {
             "color": "#2a3f5f"
            },
            "error_y": {
             "color": "#2a3f5f"
            },
            "marker": {
             "line": {
              "color": "#E5ECF6",
              "width": 0.5
             },
             "pattern": {
              "fillmode": "overlay",
              "size": 10,
              "solidity": 0.2
             }
            },
            "type": "bar"
           }
          ],
          "barpolar": [
           {
            "marker": {
             "line": {
              "color": "#E5ECF6",
              "width": 0.5
             },
             "pattern": {
              "fillmode": "overlay",
              "size": 10,
              "solidity": 0.2
             }
            },
            "type": "barpolar"
           }
          ],
          "carpet": [
           {
            "aaxis": {
             "endlinecolor": "#2a3f5f",
             "gridcolor": "white",
             "linecolor": "white",
             "minorgridcolor": "white",
             "startlinecolor": "#2a3f5f"
            },
            "baxis": {
             "endlinecolor": "#2a3f5f",
             "gridcolor": "white",
             "linecolor": "white",
             "minorgridcolor": "white",
             "startlinecolor": "#2a3f5f"
            },
            "type": "carpet"
           }
          ],
          "choropleth": [
           {
            "colorbar": {
             "outlinewidth": 0,
             "ticks": ""
            },
            "type": "choropleth"
           }
          ],
          "contour": [
           {
            "colorbar": {
             "outlinewidth": 0,
             "ticks": ""
            },
            "colorscale": [
             [
              0,
              "#0d0887"
             ],
             [
              0.1111111111111111,
              "#46039f"
             ],
             [
              0.2222222222222222,
              "#7201a8"
             ],
             [
              0.3333333333333333,
              "#9c179e"
             ],
             [
              0.4444444444444444,
              "#bd3786"
             ],
             [
              0.5555555555555556,
              "#d8576b"
             ],
             [
              0.6666666666666666,
              "#ed7953"
             ],
             [
              0.7777777777777778,
              "#fb9f3a"
             ],
             [
              0.8888888888888888,
              "#fdca26"
             ],
             [
              1,
              "#f0f921"
             ]
            ],
            "type": "contour"
           }
          ],
          "contourcarpet": [
           {
            "colorbar": {
             "outlinewidth": 0,
             "ticks": ""
            },
            "type": "contourcarpet"
           }
          ],
          "heatmap": [
           {
            "colorbar": {
             "outlinewidth": 0,
             "ticks": ""
            },
            "colorscale": [
             [
              0,
              "#0d0887"
             ],
             [
              0.1111111111111111,
              "#46039f"
             ],
             [
              0.2222222222222222,
              "#7201a8"
             ],
             [
              0.3333333333333333,
              "#9c179e"
             ],
             [
              0.4444444444444444,
              "#bd3786"
             ],
             [
              0.5555555555555556,
              "#d8576b"
             ],
             [
              0.6666666666666666,
              "#ed7953"
             ],
             [
              0.7777777777777778,
              "#fb9f3a"
             ],
             [
              0.8888888888888888,
              "#fdca26"
             ],
             [
              1,
              "#f0f921"
             ]
            ],
            "type": "heatmap"
           }
          ],
          "heatmapgl": [
           {
            "colorbar": {
             "outlinewidth": 0,
             "ticks": ""
            },
            "colorscale": [
             [
              0,
              "#0d0887"
             ],
             [
              0.1111111111111111,
              "#46039f"
             ],
             [
              0.2222222222222222,
              "#7201a8"
             ],
             [
              0.3333333333333333,
              "#9c179e"
             ],
             [
              0.4444444444444444,
              "#bd3786"
             ],
             [
              0.5555555555555556,
              "#d8576b"
             ],
             [
              0.6666666666666666,
              "#ed7953"
             ],
             [
              0.7777777777777778,
              "#fb9f3a"
             ],
             [
              0.8888888888888888,
              "#fdca26"
             ],
             [
              1,
              "#f0f921"
             ]
            ],
            "type": "heatmapgl"
           }
          ],
          "histogram": [
           {
            "marker": {
             "pattern": {
              "fillmode": "overlay",
              "size": 10,
              "solidity": 0.2
             }
            },
            "type": "histogram"
           }
          ],
          "histogram2d": [
           {
            "colorbar": {
             "outlinewidth": 0,
             "ticks": ""
            },
            "colorscale": [
             [
              0,
              "#0d0887"
             ],
             [
              0.1111111111111111,
              "#46039f"
             ],
             [
              0.2222222222222222,
              "#7201a8"
             ],
             [
              0.3333333333333333,
              "#9c179e"
             ],
             [
              0.4444444444444444,
              "#bd3786"
             ],
             [
              0.5555555555555556,
              "#d8576b"
             ],
             [
              0.6666666666666666,
              "#ed7953"
             ],
             [
              0.7777777777777778,
              "#fb9f3a"
             ],
             [
              0.8888888888888888,
              "#fdca26"
             ],
             [
              1,
              "#f0f921"
             ]
            ],
            "type": "histogram2d"
           }
          ],
          "histogram2dcontour": [
           {
            "colorbar": {
             "outlinewidth": 0,
             "ticks": ""
            },
            "colorscale": [
             [
              0,
              "#0d0887"
             ],
             [
              0.1111111111111111,
              "#46039f"
             ],
             [
              0.2222222222222222,
              "#7201a8"
             ],
             [
              0.3333333333333333,
              "#9c179e"
             ],
             [
              0.4444444444444444,
              "#bd3786"
             ],
             [
              0.5555555555555556,
              "#d8576b"
             ],
             [
              0.6666666666666666,
              "#ed7953"
             ],
             [
              0.7777777777777778,
              "#fb9f3a"
             ],
             [
              0.8888888888888888,
              "#fdca26"
             ],
             [
              1,
              "#f0f921"
             ]
            ],
            "type": "histogram2dcontour"
           }
          ],
          "mesh3d": [
           {
            "colorbar": {
             "outlinewidth": 0,
             "ticks": ""
            },
            "type": "mesh3d"
           }
          ],
          "parcoords": [
           {
            "line": {
             "colorbar": {
              "outlinewidth": 0,
              "ticks": ""
             }
            },
            "type": "parcoords"
           }
          ],
          "pie": [
           {
            "automargin": true,
            "type": "pie"
           }
          ],
          "scatter": [
           {
            "fillpattern": {
             "fillmode": "overlay",
             "size": 10,
             "solidity": 0.2
            },
            "type": "scatter"
           }
          ],
          "scatter3d": [
           {
            "line": {
             "colorbar": {
              "outlinewidth": 0,
              "ticks": ""
             }
            },
            "marker": {
             "colorbar": {
              "outlinewidth": 0,
              "ticks": ""
             }
            },
            "type": "scatter3d"
           }
          ],
          "scattercarpet": [
           {
            "marker": {
             "colorbar": {
              "outlinewidth": 0,
              "ticks": ""
             }
            },
            "type": "scattercarpet"
           }
          ],
          "scattergeo": [
           {
            "marker": {
             "colorbar": {
              "outlinewidth": 0,
              "ticks": ""
             }
            },
            "type": "scattergeo"
           }
          ],
          "scattergl": [
           {
            "marker": {
             "colorbar": {
              "outlinewidth": 0,
              "ticks": ""
             }
            },
            "type": "scattergl"
           }
          ],
          "scattermapbox": [
           {
            "marker": {
             "colorbar": {
              "outlinewidth": 0,
              "ticks": ""
             }
            },
            "type": "scattermapbox"
           }
          ],
          "scatterpolar": [
           {
            "marker": {
             "colorbar": {
              "outlinewidth": 0,
              "ticks": ""
             }
            },
            "type": "scatterpolar"
           }
          ],
          "scatterpolargl": [
           {
            "marker": {
             "colorbar": {
              "outlinewidth": 0,
              "ticks": ""
             }
            },
            "type": "scatterpolargl"
           }
          ],
          "scatterternary": [
           {
            "marker": {
             "colorbar": {
              "outlinewidth": 0,
              "ticks": ""
             }
            },
            "type": "scatterternary"
           }
          ],
          "surface": [
           {
            "colorbar": {
             "outlinewidth": 0,
             "ticks": ""
            },
            "colorscale": [
             [
              0,
              "#0d0887"
             ],
             [
              0.1111111111111111,
              "#46039f"
             ],
             [
              0.2222222222222222,
              "#7201a8"
             ],
             [
              0.3333333333333333,
              "#9c179e"
             ],
             [
              0.4444444444444444,
              "#bd3786"
             ],
             [
              0.5555555555555556,
              "#d8576b"
             ],
             [
              0.6666666666666666,
              "#ed7953"
             ],
             [
              0.7777777777777778,
              "#fb9f3a"
             ],
             [
              0.8888888888888888,
              "#fdca26"
             ],
             [
              1,
              "#f0f921"
             ]
            ],
            "type": "surface"
           }
          ],
          "table": [
           {
            "cells": {
             "fill": {
              "color": "#EBF0F8"
             },
             "line": {
              "color": "white"
             }
            },
            "header": {
             "fill": {
              "color": "#C8D4E3"
             },
             "line": {
              "color": "white"
             }
            },
            "type": "table"
           }
          ]
         },
         "layout": {
          "annotationdefaults": {
           "arrowcolor": "#2a3f5f",
           "arrowhead": 0,
           "arrowwidth": 1
          },
          "autotypenumbers": "strict",
          "coloraxis": {
           "colorbar": {
            "outlinewidth": 0,
            "ticks": ""
           }
          },
          "colorscale": {
           "diverging": [
            [
             0,
             "#8e0152"
            ],
            [
             0.1,
             "#c51b7d"
            ],
            [
             0.2,
             "#de77ae"
            ],
            [
             0.3,
             "#f1b6da"
            ],
            [
             0.4,
             "#fde0ef"
            ],
            [
             0.5,
             "#f7f7f7"
            ],
            [
             0.6,
             "#e6f5d0"
            ],
            [
             0.7,
             "#b8e186"
            ],
            [
             0.8,
             "#7fbc41"
            ],
            [
             0.9,
             "#4d9221"
            ],
            [
             1,
             "#276419"
            ]
           ],
           "sequential": [
            [
             0,
             "#0d0887"
            ],
            [
             0.1111111111111111,
             "#46039f"
            ],
            [
             0.2222222222222222,
             "#7201a8"
            ],
            [
             0.3333333333333333,
             "#9c179e"
            ],
            [
             0.4444444444444444,
             "#bd3786"
            ],
            [
             0.5555555555555556,
             "#d8576b"
            ],
            [
             0.6666666666666666,
             "#ed7953"
            ],
            [
             0.7777777777777778,
             "#fb9f3a"
            ],
            [
             0.8888888888888888,
             "#fdca26"
            ],
            [
             1,
             "#f0f921"
            ]
           ],
           "sequentialminus": [
            [
             0,
             "#0d0887"
            ],
            [
             0.1111111111111111,
             "#46039f"
            ],
            [
             0.2222222222222222,
             "#7201a8"
            ],
            [
             0.3333333333333333,
             "#9c179e"
            ],
            [
             0.4444444444444444,
             "#bd3786"
            ],
            [
             0.5555555555555556,
             "#d8576b"
            ],
            [
             0.6666666666666666,
             "#ed7953"
            ],
            [
             0.7777777777777778,
             "#fb9f3a"
            ],
            [
             0.8888888888888888,
             "#fdca26"
            ],
            [
             1,
             "#f0f921"
            ]
           ]
          },
          "colorway": [
           "#636efa",
           "#EF553B",
           "#00cc96",
           "#ab63fa",
           "#FFA15A",
           "#19d3f3",
           "#FF6692",
           "#B6E880",
           "#FF97FF",
           "#FECB52"
          ],
          "font": {
           "color": "#2a3f5f"
          },
          "geo": {
           "bgcolor": "white",
           "lakecolor": "white",
           "landcolor": "#E5ECF6",
           "showlakes": true,
           "showland": true,
           "subunitcolor": "white"
          },
          "hoverlabel": {
           "align": "left"
          },
          "hovermode": "closest",
          "mapbox": {
           "style": "light"
          },
          "paper_bgcolor": "white",
          "plot_bgcolor": "#E5ECF6",
          "polar": {
           "angularaxis": {
            "gridcolor": "white",
            "linecolor": "white",
            "ticks": ""
           },
           "bgcolor": "#E5ECF6",
           "radialaxis": {
            "gridcolor": "white",
            "linecolor": "white",
            "ticks": ""
           }
          },
          "scene": {
           "xaxis": {
            "backgroundcolor": "#E5ECF6",
            "gridcolor": "white",
            "gridwidth": 2,
            "linecolor": "white",
            "showbackground": true,
            "ticks": "",
            "zerolinecolor": "white"
           },
           "yaxis": {
            "backgroundcolor": "#E5ECF6",
            "gridcolor": "white",
            "gridwidth": 2,
            "linecolor": "white",
            "showbackground": true,
            "ticks": "",
            "zerolinecolor": "white"
           },
           "zaxis": {
            "backgroundcolor": "#E5ECF6",
            "gridcolor": "white",
            "gridwidth": 2,
            "linecolor": "white",
            "showbackground": true,
            "ticks": "",
            "zerolinecolor": "white"
           }
          },
          "shapedefaults": {
           "line": {
            "color": "#2a3f5f"
           }
          },
          "ternary": {
           "aaxis": {
            "gridcolor": "white",
            "linecolor": "white",
            "ticks": ""
           },
           "baxis": {
            "gridcolor": "white",
            "linecolor": "white",
            "ticks": ""
           },
           "bgcolor": "#E5ECF6",
           "caxis": {
            "gridcolor": "white",
            "linecolor": "white",
            "ticks": ""
           }
          },
          "title": {
           "x": 0.05
          },
          "xaxis": {
           "automargin": true,
           "gridcolor": "white",
           "linecolor": "white",
           "ticks": "",
           "title": {
            "standoff": 15
           },
           "zerolinecolor": "white",
           "zerolinewidth": 2
          },
          "yaxis": {
           "automargin": true,
           "gridcolor": "white",
           "linecolor": "white",
           "ticks": "",
           "title": {
            "standoff": 15
           },
           "zerolinecolor": "white",
           "zerolinewidth": 2
          }
         }
        },
        "title": {
         "text": "Number of Incidents per state for Fire Size A"
        }
       }
      }
     },
     "metadata": {},
     "output_type": "display_data"
    }
   ],
   "source": [
    "# Create a plot\n",
    "fig_size_A = go.Figure()\n",
    "\n",
    "# Calling function to create chart\n",
    "creating_categorical_maps('FIRE_SIZE_CLASS', 'A', fig_size_A, 'Number of Incidents per state for Fire Size A', 'amp')\n",
    "\n",
    "# Display the map\n",
    "fig_size_A.show()"
   ]
  },
  {
   "cell_type": "code",
   "execution_count": 27,
   "metadata": {},
   "outputs": [
    {
     "data": {
      "application/vnd.plotly.v1+json": {
       "config": {
        "plotlyServerURL": "https://plot.ly"
       },
       "data": [
        {
         "colorbar": {
          "len": 0.5,
          "lenmode": "fraction",
          "title": {
           "text": "State Counts"
          },
          "xanchor": "left"
         },
         "colorscale": [
          [
           0,
           "rgb(241, 236, 236)"
          ],
          [
           0.09090909090909091,
           "rgb(230, 209, 203)"
          ],
          [
           0.18181818181818182,
           "rgb(221, 182, 170)"
          ],
          [
           0.2727272727272727,
           "rgb(213, 156, 137)"
          ],
          [
           0.36363636363636365,
           "rgb(205, 129, 103)"
          ],
          [
           0.45454545454545453,
           "rgb(196, 102, 73)"
          ],
          [
           0.5454545454545454,
           "rgb(186, 74, 47)"
          ],
          [
           0.6363636363636364,
           "rgb(172, 44, 36)"
          ],
          [
           0.7272727272727273,
           "rgb(149, 19, 39)"
          ],
          [
           0.8181818181818182,
           "rgb(120, 14, 40)"
          ],
          [
           0.9090909090909091,
           "rgb(89, 13, 31)"
          ],
          [
           1,
           "rgb(60, 9, 17)"
          ]
         ],
         "hoverinfo": "z+location",
         "locationmode": "USA-states",
         "locations": [
          "CA",
          "AK",
          "OR",
          "FL",
          "CO",
          "AR",
          "NC",
          "AZ",
          "WY",
          "AL",
          "LA",
          "IL",
          "ID",
          "MO",
          "MT",
          "TN",
          "GA",
          "OK",
          "KY",
          "SC",
          "MN",
          "MI",
          "VA",
          "IN",
          "PA",
          "NM",
          "WI",
          "WV",
          "UT",
          "VT",
          "SD",
          "KS",
          "TX"
         ],
         "showscale": true,
         "type": "choropleth",
         "z": [
          10,
          1.0271084337349397,
          3.4397590361445785,
          6.448795180722891,
          2.003012048192771,
          2.6536144578313254,
          1.1626506024096386,
          1.108433734939759,
          6.096385542168675,
          1.3795180722891567,
          1,
          1.1897590361445782,
          1.0813253012048192,
          1.4066265060240963,
          1.0271084337349397,
          4.632530120481928,
          1.0813253012048192,
          1.1355421686746987,
          1.2981927710843373,
          1,
          4.3343373493975905,
          4.740963855421687,
          2.4367469879518073,
          4.009036144578313,
          1,
          1.9759036144578315,
          1,
          3.5481927710843375,
          2.924698795180723,
          1.0271084337349397,
          2.8433734939759034,
          1,
          2.5180722891566267
         ]
        }
       ],
       "layout": {
        "geo": {
         "scope": "usa"
        },
        "template": {
         "data": {
          "bar": [
           {
            "error_x": {
             "color": "#2a3f5f"
            },
            "error_y": {
             "color": "#2a3f5f"
            },
            "marker": {
             "line": {
              "color": "#E5ECF6",
              "width": 0.5
             },
             "pattern": {
              "fillmode": "overlay",
              "size": 10,
              "solidity": 0.2
             }
            },
            "type": "bar"
           }
          ],
          "barpolar": [
           {
            "marker": {
             "line": {
              "color": "#E5ECF6",
              "width": 0.5
             },
             "pattern": {
              "fillmode": "overlay",
              "size": 10,
              "solidity": 0.2
             }
            },
            "type": "barpolar"
           }
          ],
          "carpet": [
           {
            "aaxis": {
             "endlinecolor": "#2a3f5f",
             "gridcolor": "white",
             "linecolor": "white",
             "minorgridcolor": "white",
             "startlinecolor": "#2a3f5f"
            },
            "baxis": {
             "endlinecolor": "#2a3f5f",
             "gridcolor": "white",
             "linecolor": "white",
             "minorgridcolor": "white",
             "startlinecolor": "#2a3f5f"
            },
            "type": "carpet"
           }
          ],
          "choropleth": [
           {
            "colorbar": {
             "outlinewidth": 0,
             "ticks": ""
            },
            "type": "choropleth"
           }
          ],
          "contour": [
           {
            "colorbar": {
             "outlinewidth": 0,
             "ticks": ""
            },
            "colorscale": [
             [
              0,
              "#0d0887"
             ],
             [
              0.1111111111111111,
              "#46039f"
             ],
             [
              0.2222222222222222,
              "#7201a8"
             ],
             [
              0.3333333333333333,
              "#9c179e"
             ],
             [
              0.4444444444444444,
              "#bd3786"
             ],
             [
              0.5555555555555556,
              "#d8576b"
             ],
             [
              0.6666666666666666,
              "#ed7953"
             ],
             [
              0.7777777777777778,
              "#fb9f3a"
             ],
             [
              0.8888888888888888,
              "#fdca26"
             ],
             [
              1,
              "#f0f921"
             ]
            ],
            "type": "contour"
           }
          ],
          "contourcarpet": [
           {
            "colorbar": {
             "outlinewidth": 0,
             "ticks": ""
            },
            "type": "contourcarpet"
           }
          ],
          "heatmap": [
           {
            "colorbar": {
             "outlinewidth": 0,
             "ticks": ""
            },
            "colorscale": [
             [
              0,
              "#0d0887"
             ],
             [
              0.1111111111111111,
              "#46039f"
             ],
             [
              0.2222222222222222,
              "#7201a8"
             ],
             [
              0.3333333333333333,
              "#9c179e"
             ],
             [
              0.4444444444444444,
              "#bd3786"
             ],
             [
              0.5555555555555556,
              "#d8576b"
             ],
             [
              0.6666666666666666,
              "#ed7953"
             ],
             [
              0.7777777777777778,
              "#fb9f3a"
             ],
             [
              0.8888888888888888,
              "#fdca26"
             ],
             [
              1,
              "#f0f921"
             ]
            ],
            "type": "heatmap"
           }
          ],
          "heatmapgl": [
           {
            "colorbar": {
             "outlinewidth": 0,
             "ticks": ""
            },
            "colorscale": [
             [
              0,
              "#0d0887"
             ],
             [
              0.1111111111111111,
              "#46039f"
             ],
             [
              0.2222222222222222,
              "#7201a8"
             ],
             [
              0.3333333333333333,
              "#9c179e"
             ],
             [
              0.4444444444444444,
              "#bd3786"
             ],
             [
              0.5555555555555556,
              "#d8576b"
             ],
             [
              0.6666666666666666,
              "#ed7953"
             ],
             [
              0.7777777777777778,
              "#fb9f3a"
             ],
             [
              0.8888888888888888,
              "#fdca26"
             ],
             [
              1,
              "#f0f921"
             ]
            ],
            "type": "heatmapgl"
           }
          ],
          "histogram": [
           {
            "marker": {
             "pattern": {
              "fillmode": "overlay",
              "size": 10,
              "solidity": 0.2
             }
            },
            "type": "histogram"
           }
          ],
          "histogram2d": [
           {
            "colorbar": {
             "outlinewidth": 0,
             "ticks": ""
            },
            "colorscale": [
             [
              0,
              "#0d0887"
             ],
             [
              0.1111111111111111,
              "#46039f"
             ],
             [
              0.2222222222222222,
              "#7201a8"
             ],
             [
              0.3333333333333333,
              "#9c179e"
             ],
             [
              0.4444444444444444,
              "#bd3786"
             ],
             [
              0.5555555555555556,
              "#d8576b"
             ],
             [
              0.6666666666666666,
              "#ed7953"
             ],
             [
              0.7777777777777778,
              "#fb9f3a"
             ],
             [
              0.8888888888888888,
              "#fdca26"
             ],
             [
              1,
              "#f0f921"
             ]
            ],
            "type": "histogram2d"
           }
          ],
          "histogram2dcontour": [
           {
            "colorbar": {
             "outlinewidth": 0,
             "ticks": ""
            },
            "colorscale": [
             [
              0,
              "#0d0887"
             ],
             [
              0.1111111111111111,
              "#46039f"
             ],
             [
              0.2222222222222222,
              "#7201a8"
             ],
             [
              0.3333333333333333,
              "#9c179e"
             ],
             [
              0.4444444444444444,
              "#bd3786"
             ],
             [
              0.5555555555555556,
              "#d8576b"
             ],
             [
              0.6666666666666666,
              "#ed7953"
             ],
             [
              0.7777777777777778,
              "#fb9f3a"
             ],
             [
              0.8888888888888888,
              "#fdca26"
             ],
             [
              1,
              "#f0f921"
             ]
            ],
            "type": "histogram2dcontour"
           }
          ],
          "mesh3d": [
           {
            "colorbar": {
             "outlinewidth": 0,
             "ticks": ""
            },
            "type": "mesh3d"
           }
          ],
          "parcoords": [
           {
            "line": {
             "colorbar": {
              "outlinewidth": 0,
              "ticks": ""
             }
            },
            "type": "parcoords"
           }
          ],
          "pie": [
           {
            "automargin": true,
            "type": "pie"
           }
          ],
          "scatter": [
           {
            "fillpattern": {
             "fillmode": "overlay",
             "size": 10,
             "solidity": 0.2
            },
            "type": "scatter"
           }
          ],
          "scatter3d": [
           {
            "line": {
             "colorbar": {
              "outlinewidth": 0,
              "ticks": ""
             }
            },
            "marker": {
             "colorbar": {
              "outlinewidth": 0,
              "ticks": ""
             }
            },
            "type": "scatter3d"
           }
          ],
          "scattercarpet": [
           {
            "marker": {
             "colorbar": {
              "outlinewidth": 0,
              "ticks": ""
             }
            },
            "type": "scattercarpet"
           }
          ],
          "scattergeo": [
           {
            "marker": {
             "colorbar": {
              "outlinewidth": 0,
              "ticks": ""
             }
            },
            "type": "scattergeo"
           }
          ],
          "scattergl": [
           {
            "marker": {
             "colorbar": {
              "outlinewidth": 0,
              "ticks": ""
             }
            },
            "type": "scattergl"
           }
          ],
          "scattermapbox": [
           {
            "marker": {
             "colorbar": {
              "outlinewidth": 0,
              "ticks": ""
             }
            },
            "type": "scattermapbox"
           }
          ],
          "scatterpolar": [
           {
            "marker": {
             "colorbar": {
              "outlinewidth": 0,
              "ticks": ""
             }
            },
            "type": "scatterpolar"
           }
          ],
          "scatterpolargl": [
           {
            "marker": {
             "colorbar": {
              "outlinewidth": 0,
              "ticks": ""
             }
            },
            "type": "scatterpolargl"
           }
          ],
          "scatterternary": [
           {
            "marker": {
             "colorbar": {
              "outlinewidth": 0,
              "ticks": ""
             }
            },
            "type": "scatterternary"
           }
          ],
          "surface": [
           {
            "colorbar": {
             "outlinewidth": 0,
             "ticks": ""
            },
            "colorscale": [
             [
              0,
              "#0d0887"
             ],
             [
              0.1111111111111111,
              "#46039f"
             ],
             [
              0.2222222222222222,
              "#7201a8"
             ],
             [
              0.3333333333333333,
              "#9c179e"
             ],
             [
              0.4444444444444444,
              "#bd3786"
             ],
             [
              0.5555555555555556,
              "#d8576b"
             ],
             [
              0.6666666666666666,
              "#ed7953"
             ],
             [
              0.7777777777777778,
              "#fb9f3a"
             ],
             [
              0.8888888888888888,
              "#fdca26"
             ],
             [
              1,
              "#f0f921"
             ]
            ],
            "type": "surface"
           }
          ],
          "table": [
           {
            "cells": {
             "fill": {
              "color": "#EBF0F8"
             },
             "line": {
              "color": "white"
             }
            },
            "header": {
             "fill": {
              "color": "#C8D4E3"
             },
             "line": {
              "color": "white"
             }
            },
            "type": "table"
           }
          ]
         },
         "layout": {
          "annotationdefaults": {
           "arrowcolor": "#2a3f5f",
           "arrowhead": 0,
           "arrowwidth": 1
          },
          "autotypenumbers": "strict",
          "coloraxis": {
           "colorbar": {
            "outlinewidth": 0,
            "ticks": ""
           }
          },
          "colorscale": {
           "diverging": [
            [
             0,
             "#8e0152"
            ],
            [
             0.1,
             "#c51b7d"
            ],
            [
             0.2,
             "#de77ae"
            ],
            [
             0.3,
             "#f1b6da"
            ],
            [
             0.4,
             "#fde0ef"
            ],
            [
             0.5,
             "#f7f7f7"
            ],
            [
             0.6,
             "#e6f5d0"
            ],
            [
             0.7,
             "#b8e186"
            ],
            [
             0.8,
             "#7fbc41"
            ],
            [
             0.9,
             "#4d9221"
            ],
            [
             1,
             "#276419"
            ]
           ],
           "sequential": [
            [
             0,
             "#0d0887"
            ],
            [
             0.1111111111111111,
             "#46039f"
            ],
            [
             0.2222222222222222,
             "#7201a8"
            ],
            [
             0.3333333333333333,
             "#9c179e"
            ],
            [
             0.4444444444444444,
             "#bd3786"
            ],
            [
             0.5555555555555556,
             "#d8576b"
            ],
            [
             0.6666666666666666,
             "#ed7953"
            ],
            [
             0.7777777777777778,
             "#fb9f3a"
            ],
            [
             0.8888888888888888,
             "#fdca26"
            ],
            [
             1,
             "#f0f921"
            ]
           ],
           "sequentialminus": [
            [
             0,
             "#0d0887"
            ],
            [
             0.1111111111111111,
             "#46039f"
            ],
            [
             0.2222222222222222,
             "#7201a8"
            ],
            [
             0.3333333333333333,
             "#9c179e"
            ],
            [
             0.4444444444444444,
             "#bd3786"
            ],
            [
             0.5555555555555556,
             "#d8576b"
            ],
            [
             0.6666666666666666,
             "#ed7953"
            ],
            [
             0.7777777777777778,
             "#fb9f3a"
            ],
            [
             0.8888888888888888,
             "#fdca26"
            ],
            [
             1,
             "#f0f921"
            ]
           ]
          },
          "colorway": [
           "#636efa",
           "#EF553B",
           "#00cc96",
           "#ab63fa",
           "#FFA15A",
           "#19d3f3",
           "#FF6692",
           "#B6E880",
           "#FF97FF",
           "#FECB52"
          ],
          "font": {
           "color": "#2a3f5f"
          },
          "geo": {
           "bgcolor": "white",
           "lakecolor": "white",
           "landcolor": "#E5ECF6",
           "showlakes": true,
           "showland": true,
           "subunitcolor": "white"
          },
          "hoverlabel": {
           "align": "left"
          },
          "hovermode": "closest",
          "mapbox": {
           "style": "light"
          },
          "paper_bgcolor": "white",
          "plot_bgcolor": "#E5ECF6",
          "polar": {
           "angularaxis": {
            "gridcolor": "white",
            "linecolor": "white",
            "ticks": ""
           },
           "bgcolor": "#E5ECF6",
           "radialaxis": {
            "gridcolor": "white",
            "linecolor": "white",
            "ticks": ""
           }
          },
          "scene": {
           "xaxis": {
            "backgroundcolor": "#E5ECF6",
            "gridcolor": "white",
            "gridwidth": 2,
            "linecolor": "white",
            "showbackground": true,
            "ticks": "",
            "zerolinecolor": "white"
           },
           "yaxis": {
            "backgroundcolor": "#E5ECF6",
            "gridcolor": "white",
            "gridwidth": 2,
            "linecolor": "white",
            "showbackground": true,
            "ticks": "",
            "zerolinecolor": "white"
           },
           "zaxis": {
            "backgroundcolor": "#E5ECF6",
            "gridcolor": "white",
            "gridwidth": 2,
            "linecolor": "white",
            "showbackground": true,
            "ticks": "",
            "zerolinecolor": "white"
           }
          },
          "shapedefaults": {
           "line": {
            "color": "#2a3f5f"
           }
          },
          "ternary": {
           "aaxis": {
            "gridcolor": "white",
            "linecolor": "white",
            "ticks": ""
           },
           "baxis": {
            "gridcolor": "white",
            "linecolor": "white",
            "ticks": ""
           },
           "bgcolor": "#E5ECF6",
           "caxis": {
            "gridcolor": "white",
            "linecolor": "white",
            "ticks": ""
           }
          },
          "title": {
           "x": 0.05
          },
          "xaxis": {
           "automargin": true,
           "gridcolor": "white",
           "linecolor": "white",
           "ticks": "",
           "title": {
            "standoff": 15
           },
           "zerolinecolor": "white",
           "zerolinewidth": 2
          },
          "yaxis": {
           "automargin": true,
           "gridcolor": "white",
           "linecolor": "white",
           "ticks": "",
           "title": {
            "standoff": 15
           },
           "zerolinecolor": "white",
           "zerolinewidth": 2
          }
         }
        },
        "title": {
         "text": "Number of Incidents per state for Fire Size G"
        }
       }
      }
     },
     "metadata": {},
     "output_type": "display_data"
    }
   ],
   "source": [
    "# Create a plot\n",
    "fig_size_G = go.Figure()\n",
    "\n",
    "# Calling function to create chart\n",
    "creating_categorical_maps('FIRE_SIZE_CLASS', 'G', fig_size_G, 'Number of Incidents per state for Fire Size G', 'amp')\n",
    "\n",
    "# Display the map\n",
    "fig_size_G.show()"
   ]
  },
  {
   "cell_type": "code",
   "execution_count": 28,
   "metadata": {},
   "outputs": [
    {
     "data": {
      "application/vnd.plotly.v1+json": {
       "config": {
        "plotlyServerURL": "https://plot.ly"
       },
       "data": [
        {
         "colorbar": {
          "len": 0.5,
          "lenmode": "fraction",
          "title": {
           "text": "State Counts"
          },
          "xanchor": "left"
         },
         "colorscale": [
          [
           0,
           "rgb(196, 230, 195)"
          ],
          [
           0.16666666666666666,
           "rgb(150, 210, 164)"
          ],
          [
           0.3333333333333333,
           "rgb(109, 188, 144)"
          ],
          [
           0.5,
           "rgb(77, 162, 132)"
          ],
          [
           0.6666666666666666,
           "rgb(54, 135, 122)"
          ],
          [
           0.8333333333333334,
           "rgb(38, 107, 110)"
          ],
          [
           1,
           "rgb(29, 79, 96)"
          ]
         ],
         "hoverinfo": "z+location",
         "locationmode": "USA-states",
         "locations": [
          "CA",
          "AK",
          "OR",
          "FL",
          "CO",
          "AR",
          "NC",
          "AZ",
          "WY",
          "AL",
          "LA",
          "IL",
          "ID",
          "MO",
          "MT",
          "TN",
          "GA",
          "OK",
          "KY",
          "SC",
          "MN",
          "MI",
          "VA",
          "IN",
          "PA",
          "NM",
          "WI",
          "WV",
          "UT",
          "VT",
          "SD",
          "KS",
          "TX",
          "WA",
          "NV",
          "OH",
          "NY",
          "NE",
          "ND",
          "NH",
          "MS",
          "MD",
          "NJ",
          "ME",
          "DE",
          "IA",
          "DC",
          "MA",
          "HI",
          "CT"
         ],
         "showscale": true,
         "type": "choropleth",
         "z": [
          1.2460017446932248,
          3.5199912765338763,
          2.317461471357953,
          1.3386885722593778,
          2.2127798778714745,
          1.0344576911892993,
          1.0817824949113115,
          1.0006542599592905,
          2.4762285548124456,
          10,
          1,
          1.0113405059610352,
          1.0987932538528642,
          1.050159930212271,
          1.074585635359116,
          1.0756760686246003,
          2.159130561209654,
          1.6243820878162256,
          1.0054521663274207,
          1.141538237859843,
          1.236624018610061,
          1.3546088979354463,
          2.388121546961326,
          1.3286565862169235,
          2.969758650770573,
          1.3799069496946788,
          4.75348938644955,
          1.1973684210526316,
          1.2579965106135504,
          1.0593195696423379,
          1.081128234952021,
          1.4448967723175343,
          1.0392555975574296,
          1.939081128234952,
          1.1277987787147428,
          1.5210090142483281,
          1.5122855481244548,
          1.3919017156150044,
          1.0023989531840651,
          4.54565280604827,
          1.7164146554230881,
          2.7104536202384413,
          7.612605408548997,
          1.0641174760104681,
          1.8261122419307938,
          1.0026170398371619,
          1.5002907822041291,
          1.964815353300378,
          1.7883832509450421,
          1.0835271881360862
         ]
        }
       ],
       "layout": {
        "geo": {
         "scope": "usa"
        },
        "template": {
         "data": {
          "bar": [
           {
            "error_x": {
             "color": "#2a3f5f"
            },
            "error_y": {
             "color": "#2a3f5f"
            },
            "marker": {
             "line": {
              "color": "#E5ECF6",
              "width": 0.5
             },
             "pattern": {
              "fillmode": "overlay",
              "size": 10,
              "solidity": 0.2
             }
            },
            "type": "bar"
           }
          ],
          "barpolar": [
           {
            "marker": {
             "line": {
              "color": "#E5ECF6",
              "width": 0.5
             },
             "pattern": {
              "fillmode": "overlay",
              "size": 10,
              "solidity": 0.2
             }
            },
            "type": "barpolar"
           }
          ],
          "carpet": [
           {
            "aaxis": {
             "endlinecolor": "#2a3f5f",
             "gridcolor": "white",
             "linecolor": "white",
             "minorgridcolor": "white",
             "startlinecolor": "#2a3f5f"
            },
            "baxis": {
             "endlinecolor": "#2a3f5f",
             "gridcolor": "white",
             "linecolor": "white",
             "minorgridcolor": "white",
             "startlinecolor": "#2a3f5f"
            },
            "type": "carpet"
           }
          ],
          "choropleth": [
           {
            "colorbar": {
             "outlinewidth": 0,
             "ticks": ""
            },
            "type": "choropleth"
           }
          ],
          "contour": [
           {
            "colorbar": {
             "outlinewidth": 0,
             "ticks": ""
            },
            "colorscale": [
             [
              0,
              "#0d0887"
             ],
             [
              0.1111111111111111,
              "#46039f"
             ],
             [
              0.2222222222222222,
              "#7201a8"
             ],
             [
              0.3333333333333333,
              "#9c179e"
             ],
             [
              0.4444444444444444,
              "#bd3786"
             ],
             [
              0.5555555555555556,
              "#d8576b"
             ],
             [
              0.6666666666666666,
              "#ed7953"
             ],
             [
              0.7777777777777778,
              "#fb9f3a"
             ],
             [
              0.8888888888888888,
              "#fdca26"
             ],
             [
              1,
              "#f0f921"
             ]
            ],
            "type": "contour"
           }
          ],
          "contourcarpet": [
           {
            "colorbar": {
             "outlinewidth": 0,
             "ticks": ""
            },
            "type": "contourcarpet"
           }
          ],
          "heatmap": [
           {
            "colorbar": {
             "outlinewidth": 0,
             "ticks": ""
            },
            "colorscale": [
             [
              0,
              "#0d0887"
             ],
             [
              0.1111111111111111,
              "#46039f"
             ],
             [
              0.2222222222222222,
              "#7201a8"
             ],
             [
              0.3333333333333333,
              "#9c179e"
             ],
             [
              0.4444444444444444,
              "#bd3786"
             ],
             [
              0.5555555555555556,
              "#d8576b"
             ],
             [
              0.6666666666666666,
              "#ed7953"
             ],
             [
              0.7777777777777778,
              "#fb9f3a"
             ],
             [
              0.8888888888888888,
              "#fdca26"
             ],
             [
              1,
              "#f0f921"
             ]
            ],
            "type": "heatmap"
           }
          ],
          "heatmapgl": [
           {
            "colorbar": {
             "outlinewidth": 0,
             "ticks": ""
            },
            "colorscale": [
             [
              0,
              "#0d0887"
             ],
             [
              0.1111111111111111,
              "#46039f"
             ],
             [
              0.2222222222222222,
              "#7201a8"
             ],
             [
              0.3333333333333333,
              "#9c179e"
             ],
             [
              0.4444444444444444,
              "#bd3786"
             ],
             [
              0.5555555555555556,
              "#d8576b"
             ],
             [
              0.6666666666666666,
              "#ed7953"
             ],
             [
              0.7777777777777778,
              "#fb9f3a"
             ],
             [
              0.8888888888888888,
              "#fdca26"
             ],
             [
              1,
              "#f0f921"
             ]
            ],
            "type": "heatmapgl"
           }
          ],
          "histogram": [
           {
            "marker": {
             "pattern": {
              "fillmode": "overlay",
              "size": 10,
              "solidity": 0.2
             }
            },
            "type": "histogram"
           }
          ],
          "histogram2d": [
           {
            "colorbar": {
             "outlinewidth": 0,
             "ticks": ""
            },
            "colorscale": [
             [
              0,
              "#0d0887"
             ],
             [
              0.1111111111111111,
              "#46039f"
             ],
             [
              0.2222222222222222,
              "#7201a8"
             ],
             [
              0.3333333333333333,
              "#9c179e"
             ],
             [
              0.4444444444444444,
              "#bd3786"
             ],
             [
              0.5555555555555556,
              "#d8576b"
             ],
             [
              0.6666666666666666,
              "#ed7953"
             ],
             [
              0.7777777777777778,
              "#fb9f3a"
             ],
             [
              0.8888888888888888,
              "#fdca26"
             ],
             [
              1,
              "#f0f921"
             ]
            ],
            "type": "histogram2d"
           }
          ],
          "histogram2dcontour": [
           {
            "colorbar": {
             "outlinewidth": 0,
             "ticks": ""
            },
            "colorscale": [
             [
              0,
              "#0d0887"
             ],
             [
              0.1111111111111111,
              "#46039f"
             ],
             [
              0.2222222222222222,
              "#7201a8"
             ],
             [
              0.3333333333333333,
              "#9c179e"
             ],
             [
              0.4444444444444444,
              "#bd3786"
             ],
             [
              0.5555555555555556,
              "#d8576b"
             ],
             [
              0.6666666666666666,
              "#ed7953"
             ],
             [
              0.7777777777777778,
              "#fb9f3a"
             ],
             [
              0.8888888888888888,
              "#fdca26"
             ],
             [
              1,
              "#f0f921"
             ]
            ],
            "type": "histogram2dcontour"
           }
          ],
          "mesh3d": [
           {
            "colorbar": {
             "outlinewidth": 0,
             "ticks": ""
            },
            "type": "mesh3d"
           }
          ],
          "parcoords": [
           {
            "line": {
             "colorbar": {
              "outlinewidth": 0,
              "ticks": ""
             }
            },
            "type": "parcoords"
           }
          ],
          "pie": [
           {
            "automargin": true,
            "type": "pie"
           }
          ],
          "scatter": [
           {
            "fillpattern": {
             "fillmode": "overlay",
             "size": 10,
             "solidity": 0.2
            },
            "type": "scatter"
           }
          ],
          "scatter3d": [
           {
            "line": {
             "colorbar": {
              "outlinewidth": 0,
              "ticks": ""
             }
            },
            "marker": {
             "colorbar": {
              "outlinewidth": 0,
              "ticks": ""
             }
            },
            "type": "scatter3d"
           }
          ],
          "scattercarpet": [
           {
            "marker": {
             "colorbar": {
              "outlinewidth": 0,
              "ticks": ""
             }
            },
            "type": "scattercarpet"
           }
          ],
          "scattergeo": [
           {
            "marker": {
             "colorbar": {
              "outlinewidth": 0,
              "ticks": ""
             }
            },
            "type": "scattergeo"
           }
          ],
          "scattergl": [
           {
            "marker": {
             "colorbar": {
              "outlinewidth": 0,
              "ticks": ""
             }
            },
            "type": "scattergl"
           }
          ],
          "scattermapbox": [
           {
            "marker": {
             "colorbar": {
              "outlinewidth": 0,
              "ticks": ""
             }
            },
            "type": "scattermapbox"
           }
          ],
          "scatterpolar": [
           {
            "marker": {
             "colorbar": {
              "outlinewidth": 0,
              "ticks": ""
             }
            },
            "type": "scatterpolar"
           }
          ],
          "scatterpolargl": [
           {
            "marker": {
             "colorbar": {
              "outlinewidth": 0,
              "ticks": ""
             }
            },
            "type": "scatterpolargl"
           }
          ],
          "scatterternary": [
           {
            "marker": {
             "colorbar": {
              "outlinewidth": 0,
              "ticks": ""
             }
            },
            "type": "scatterternary"
           }
          ],
          "surface": [
           {
            "colorbar": {
             "outlinewidth": 0,
             "ticks": ""
            },
            "colorscale": [
             [
              0,
              "#0d0887"
             ],
             [
              0.1111111111111111,
              "#46039f"
             ],
             [
              0.2222222222222222,
              "#7201a8"
             ],
             [
              0.3333333333333333,
              "#9c179e"
             ],
             [
              0.4444444444444444,
              "#bd3786"
             ],
             [
              0.5555555555555556,
              "#d8576b"
             ],
             [
              0.6666666666666666,
              "#ed7953"
             ],
             [
              0.7777777777777778,
              "#fb9f3a"
             ],
             [
              0.8888888888888888,
              "#fdca26"
             ],
             [
              1,
              "#f0f921"
             ]
            ],
            "type": "surface"
           }
          ],
          "table": [
           {
            "cells": {
             "fill": {
              "color": "#EBF0F8"
             },
             "line": {
              "color": "white"
             }
            },
            "header": {
             "fill": {
              "color": "#C8D4E3"
             },
             "line": {
              "color": "white"
             }
            },
            "type": "table"
           }
          ]
         },
         "layout": {
          "annotationdefaults": {
           "arrowcolor": "#2a3f5f",
           "arrowhead": 0,
           "arrowwidth": 1
          },
          "autotypenumbers": "strict",
          "coloraxis": {
           "colorbar": {
            "outlinewidth": 0,
            "ticks": ""
           }
          },
          "colorscale": {
           "diverging": [
            [
             0,
             "#8e0152"
            ],
            [
             0.1,
             "#c51b7d"
            ],
            [
             0.2,
             "#de77ae"
            ],
            [
             0.3,
             "#f1b6da"
            ],
            [
             0.4,
             "#fde0ef"
            ],
            [
             0.5,
             "#f7f7f7"
            ],
            [
             0.6,
             "#e6f5d0"
            ],
            [
             0.7,
             "#b8e186"
            ],
            [
             0.8,
             "#7fbc41"
            ],
            [
             0.9,
             "#4d9221"
            ],
            [
             1,
             "#276419"
            ]
           ],
           "sequential": [
            [
             0,
             "#0d0887"
            ],
            [
             0.1111111111111111,
             "#46039f"
            ],
            [
             0.2222222222222222,
             "#7201a8"
            ],
            [
             0.3333333333333333,
             "#9c179e"
            ],
            [
             0.4444444444444444,
             "#bd3786"
            ],
            [
             0.5555555555555556,
             "#d8576b"
            ],
            [
             0.6666666666666666,
             "#ed7953"
            ],
            [
             0.7777777777777778,
             "#fb9f3a"
            ],
            [
             0.8888888888888888,
             "#fdca26"
            ],
            [
             1,
             "#f0f921"
            ]
           ],
           "sequentialminus": [
            [
             0,
             "#0d0887"
            ],
            [
             0.1111111111111111,
             "#46039f"
            ],
            [
             0.2222222222222222,
             "#7201a8"
            ],
            [
             0.3333333333333333,
             "#9c179e"
            ],
            [
             0.4444444444444444,
             "#bd3786"
            ],
            [
             0.5555555555555556,
             "#d8576b"
            ],
            [
             0.6666666666666666,
             "#ed7953"
            ],
            [
             0.7777777777777778,
             "#fb9f3a"
            ],
            [
             0.8888888888888888,
             "#fdca26"
            ],
            [
             1,
             "#f0f921"
            ]
           ]
          },
          "colorway": [
           "#636efa",
           "#EF553B",
           "#00cc96",
           "#ab63fa",
           "#FFA15A",
           "#19d3f3",
           "#FF6692",
           "#B6E880",
           "#FF97FF",
           "#FECB52"
          ],
          "font": {
           "color": "#2a3f5f"
          },
          "geo": {
           "bgcolor": "white",
           "lakecolor": "white",
           "landcolor": "#E5ECF6",
           "showlakes": true,
           "showland": true,
           "subunitcolor": "white"
          },
          "hoverlabel": {
           "align": "left"
          },
          "hovermode": "closest",
          "mapbox": {
           "style": "light"
          },
          "paper_bgcolor": "white",
          "plot_bgcolor": "#E5ECF6",
          "polar": {
           "angularaxis": {
            "gridcolor": "white",
            "linecolor": "white",
            "ticks": ""
           },
           "bgcolor": "#E5ECF6",
           "radialaxis": {
            "gridcolor": "white",
            "linecolor": "white",
            "ticks": ""
           }
          },
          "scene": {
           "xaxis": {
            "backgroundcolor": "#E5ECF6",
            "gridcolor": "white",
            "gridwidth": 2,
            "linecolor": "white",
            "showbackground": true,
            "ticks": "",
            "zerolinecolor": "white"
           },
           "yaxis": {
            "backgroundcolor": "#E5ECF6",
            "gridcolor": "white",
            "gridwidth": 2,
            "linecolor": "white",
            "showbackground": true,
            "ticks": "",
            "zerolinecolor": "white"
           },
           "zaxis": {
            "backgroundcolor": "#E5ECF6",
            "gridcolor": "white",
            "gridwidth": 2,
            "linecolor": "white",
            "showbackground": true,
            "ticks": "",
            "zerolinecolor": "white"
           }
          },
          "shapedefaults": {
           "line": {
            "color": "#2a3f5f"
           }
          },
          "ternary": {
           "aaxis": {
            "gridcolor": "white",
            "linecolor": "white",
            "ticks": ""
           },
           "baxis": {
            "gridcolor": "white",
            "linecolor": "white",
            "ticks": ""
           },
           "bgcolor": "#E5ECF6",
           "caxis": {
            "gridcolor": "white",
            "linecolor": "white",
            "ticks": ""
           }
          },
          "title": {
           "x": 0.05
          },
          "xaxis": {
           "automargin": true,
           "gridcolor": "white",
           "linecolor": "white",
           "ticks": "",
           "title": {
            "standoff": 15
           },
           "zerolinecolor": "white",
           "zerolinewidth": 2
          },
          "yaxis": {
           "automargin": true,
           "gridcolor": "white",
           "linecolor": "white",
           "ticks": "",
           "title": {
            "standoff": 15
           },
           "zerolinecolor": "white",
           "zerolinewidth": 2
          }
         }
        },
        "title": {
         "text": "Number of Incidents per state caused by Debris Burning"
        }
       }
      }
     },
     "metadata": {},
     "output_type": "display_data"
    }
   ],
   "source": [
    "# Create a plot\n",
    "fig_size_cause_Debris_Burning = go.Figure()\n",
    "\n",
    "# Calling function to create chart\n",
    "creating_categorical_maps('STAT_CAUSE_DESCR', 'Debris Burning', fig_size_cause_Debris_Burning, 'Number of Incidents per state caused by Debris Burning', 'blugrn')\n",
    "\n",
    "# Display the map\n",
    "fig_size_cause_Debris_Burning.show()"
   ]
  },
  {
   "cell_type": "code",
   "execution_count": 29,
   "metadata": {},
   "outputs": [
    {
     "data": {
      "application/vnd.plotly.v1+json": {
       "config": {
        "plotlyServerURL": "https://plot.ly"
       },
       "data": [
        {
         "colorbar": {
          "len": 0.5,
          "lenmode": "fraction",
          "title": {
           "text": "State Counts"
          },
          "xanchor": "left"
         },
         "colorscale": [
          [
           0,
           "rgb(196, 230, 195)"
          ],
          [
           0.16666666666666666,
           "rgb(150, 210, 164)"
          ],
          [
           0.3333333333333333,
           "rgb(109, 188, 144)"
          ],
          [
           0.5,
           "rgb(77, 162, 132)"
          ],
          [
           0.6666666666666666,
           "rgb(54, 135, 122)"
          ],
          [
           0.8333333333333334,
           "rgb(38, 107, 110)"
          ],
          [
           1,
           "rgb(29, 79, 96)"
          ]
         ],
         "hoverinfo": "z+location",
         "locationmode": "USA-states",
         "locations": [
          "CA",
          "AK",
          "OR",
          "FL",
          "CO",
          "AR",
          "NC",
          "AZ",
          "WY",
          "AL",
          "LA",
          "IL",
          "ID",
          "MO",
          "MT",
          "TN",
          "GA",
          "OK",
          "KY",
          "SC",
          "MN",
          "MI",
          "VA",
          "IN",
          "PA",
          "NM",
          "WI",
          "WV",
          "UT",
          "VT",
          "SD",
          "KS",
          "TX",
          "WA",
          "NV",
          "OH",
          "NY",
          "NE",
          "ND",
          "NH",
          "MS",
          "MD",
          "NJ",
          "ME",
          "DE",
          "IA",
          "DC",
          "MA",
          "HI",
          "CT",
          "PR",
          "RI"
         ],
         "showscale": true,
         "type": "choropleth",
         "z": [
          1.1468767585818795,
          10,
          5.1315419245920095,
          2.433947664603264,
          6.607906584130557,
          1.2025886325267305,
          1.1494091164884637,
          1,
          1.0025323579065841,
          3.608328643781655,
          9.446679797411367,
          1.0018992684299382,
          1.0253235790658413,
          1.3165447383230164,
          1.0753376477208778,
          1.0917979741136747,
          1.096229600450197,
          2.8669808666291505,
          4.064153066966798,
          1.0430500844119301,
          1.3425014068655037,
          1.2469048958919526,
          1.2443725379853685,
          4.756752954417558,
          2.046496904895892,
          8.631893640967924,
          1.5887732132808103,
          5.9324001125492405,
          3.733047270680923,
          1.1234524479459764,
          1.0253235790658413,
          3.2056837366347777,
          1.4608891389983119,
          1.0879994372537984,
          5.496201463140124,
          1.1424451322453573,
          5.520258863252673,
          1.5083708497467643,
          1.9179797411367474,
          1.0348199212155318,
          1.095596510973551,
          6.7332583005064714,
          1.3380697805289814,
          5.2815841305571185,
          3.64251547552054,
          1.1088913899831176,
          2.2858047270680926,
          1.00316544738323,
          1.4431626336522227,
          2.1287985368598763,
          3.1265475520540233,
          1.0848339898705683
         ]
        }
       ],
       "layout": {
        "geo": {
         "scope": "usa"
        },
        "template": {
         "data": {
          "bar": [
           {
            "error_x": {
             "color": "#2a3f5f"
            },
            "error_y": {
             "color": "#2a3f5f"
            },
            "marker": {
             "line": {
              "color": "#E5ECF6",
              "width": 0.5
             },
             "pattern": {
              "fillmode": "overlay",
              "size": 10,
              "solidity": 0.2
             }
            },
            "type": "bar"
           }
          ],
          "barpolar": [
           {
            "marker": {
             "line": {
              "color": "#E5ECF6",
              "width": 0.5
             },
             "pattern": {
              "fillmode": "overlay",
              "size": 10,
              "solidity": 0.2
             }
            },
            "type": "barpolar"
           }
          ],
          "carpet": [
           {
            "aaxis": {
             "endlinecolor": "#2a3f5f",
             "gridcolor": "white",
             "linecolor": "white",
             "minorgridcolor": "white",
             "startlinecolor": "#2a3f5f"
            },
            "baxis": {
             "endlinecolor": "#2a3f5f",
             "gridcolor": "white",
             "linecolor": "white",
             "minorgridcolor": "white",
             "startlinecolor": "#2a3f5f"
            },
            "type": "carpet"
           }
          ],
          "choropleth": [
           {
            "colorbar": {
             "outlinewidth": 0,
             "ticks": ""
            },
            "type": "choropleth"
           }
          ],
          "contour": [
           {
            "colorbar": {
             "outlinewidth": 0,
             "ticks": ""
            },
            "colorscale": [
             [
              0,
              "#0d0887"
             ],
             [
              0.1111111111111111,
              "#46039f"
             ],
             [
              0.2222222222222222,
              "#7201a8"
             ],
             [
              0.3333333333333333,
              "#9c179e"
             ],
             [
              0.4444444444444444,
              "#bd3786"
             ],
             [
              0.5555555555555556,
              "#d8576b"
             ],
             [
              0.6666666666666666,
              "#ed7953"
             ],
             [
              0.7777777777777778,
              "#fb9f3a"
             ],
             [
              0.8888888888888888,
              "#fdca26"
             ],
             [
              1,
              "#f0f921"
             ]
            ],
            "type": "contour"
           }
          ],
          "contourcarpet": [
           {
            "colorbar": {
             "outlinewidth": 0,
             "ticks": ""
            },
            "type": "contourcarpet"
           }
          ],
          "heatmap": [
           {
            "colorbar": {
             "outlinewidth": 0,
             "ticks": ""
            },
            "colorscale": [
             [
              0,
              "#0d0887"
             ],
             [
              0.1111111111111111,
              "#46039f"
             ],
             [
              0.2222222222222222,
              "#7201a8"
             ],
             [
              0.3333333333333333,
              "#9c179e"
             ],
             [
              0.4444444444444444,
              "#bd3786"
             ],
             [
              0.5555555555555556,
              "#d8576b"
             ],
             [
              0.6666666666666666,
              "#ed7953"
             ],
             [
              0.7777777777777778,
              "#fb9f3a"
             ],
             [
              0.8888888888888888,
              "#fdca26"
             ],
             [
              1,
              "#f0f921"
             ]
            ],
            "type": "heatmap"
           }
          ],
          "heatmapgl": [
           {
            "colorbar": {
             "outlinewidth": 0,
             "ticks": ""
            },
            "colorscale": [
             [
              0,
              "#0d0887"
             ],
             [
              0.1111111111111111,
              "#46039f"
             ],
             [
              0.2222222222222222,
              "#7201a8"
             ],
             [
              0.3333333333333333,
              "#9c179e"
             ],
             [
              0.4444444444444444,
              "#bd3786"
             ],
             [
              0.5555555555555556,
              "#d8576b"
             ],
             [
              0.6666666666666666,
              "#ed7953"
             ],
             [
              0.7777777777777778,
              "#fb9f3a"
             ],
             [
              0.8888888888888888,
              "#fdca26"
             ],
             [
              1,
              "#f0f921"
             ]
            ],
            "type": "heatmapgl"
           }
          ],
          "histogram": [
           {
            "marker": {
             "pattern": {
              "fillmode": "overlay",
              "size": 10,
              "solidity": 0.2
             }
            },
            "type": "histogram"
           }
          ],
          "histogram2d": [
           {
            "colorbar": {
             "outlinewidth": 0,
             "ticks": ""
            },
            "colorscale": [
             [
              0,
              "#0d0887"
             ],
             [
              0.1111111111111111,
              "#46039f"
             ],
             [
              0.2222222222222222,
              "#7201a8"
             ],
             [
              0.3333333333333333,
              "#9c179e"
             ],
             [
              0.4444444444444444,
              "#bd3786"
             ],
             [
              0.5555555555555556,
              "#d8576b"
             ],
             [
              0.6666666666666666,
              "#ed7953"
             ],
             [
              0.7777777777777778,
              "#fb9f3a"
             ],
             [
              0.8888888888888888,
              "#fdca26"
             ],
             [
              1,
              "#f0f921"
             ]
            ],
            "type": "histogram2d"
           }
          ],
          "histogram2dcontour": [
           {
            "colorbar": {
             "outlinewidth": 0,
             "ticks": ""
            },
            "colorscale": [
             [
              0,
              "#0d0887"
             ],
             [
              0.1111111111111111,
              "#46039f"
             ],
             [
              0.2222222222222222,
              "#7201a8"
             ],
             [
              0.3333333333333333,
              "#9c179e"
             ],
             [
              0.4444444444444444,
              "#bd3786"
             ],
             [
              0.5555555555555556,
              "#d8576b"
             ],
             [
              0.6666666666666666,
              "#ed7953"
             ],
             [
              0.7777777777777778,
              "#fb9f3a"
             ],
             [
              0.8888888888888888,
              "#fdca26"
             ],
             [
              1,
              "#f0f921"
             ]
            ],
            "type": "histogram2dcontour"
           }
          ],
          "mesh3d": [
           {
            "colorbar": {
             "outlinewidth": 0,
             "ticks": ""
            },
            "type": "mesh3d"
           }
          ],
          "parcoords": [
           {
            "line": {
             "colorbar": {
              "outlinewidth": 0,
              "ticks": ""
             }
            },
            "type": "parcoords"
           }
          ],
          "pie": [
           {
            "automargin": true,
            "type": "pie"
           }
          ],
          "scatter": [
           {
            "fillpattern": {
             "fillmode": "overlay",
             "size": 10,
             "solidity": 0.2
            },
            "type": "scatter"
           }
          ],
          "scatter3d": [
           {
            "line": {
             "colorbar": {
              "outlinewidth": 0,
              "ticks": ""
             }
            },
            "marker": {
             "colorbar": {
              "outlinewidth": 0,
              "ticks": ""
             }
            },
            "type": "scatter3d"
           }
          ],
          "scattercarpet": [
           {
            "marker": {
             "colorbar": {
              "outlinewidth": 0,
              "ticks": ""
             }
            },
            "type": "scattercarpet"
           }
          ],
          "scattergeo": [
           {
            "marker": {
             "colorbar": {
              "outlinewidth": 0,
              "ticks": ""
             }
            },
            "type": "scattergeo"
           }
          ],
          "scattergl": [
           {
            "marker": {
             "colorbar": {
              "outlinewidth": 0,
              "ticks": ""
             }
            },
            "type": "scattergl"
           }
          ],
          "scattermapbox": [
           {
            "marker": {
             "colorbar": {
              "outlinewidth": 0,
              "ticks": ""
             }
            },
            "type": "scattermapbox"
           }
          ],
          "scatterpolar": [
           {
            "marker": {
             "colorbar": {
              "outlinewidth": 0,
              "ticks": ""
             }
            },
            "type": "scatterpolar"
           }
          ],
          "scatterpolargl": [
           {
            "marker": {
             "colorbar": {
              "outlinewidth": 0,
              "ticks": ""
             }
            },
            "type": "scatterpolargl"
           }
          ],
          "scatterternary": [
           {
            "marker": {
             "colorbar": {
              "outlinewidth": 0,
              "ticks": ""
             }
            },
            "type": "scatterternary"
           }
          ],
          "surface": [
           {
            "colorbar": {
             "outlinewidth": 0,
             "ticks": ""
            },
            "colorscale": [
             [
              0,
              "#0d0887"
             ],
             [
              0.1111111111111111,
              "#46039f"
             ],
             [
              0.2222222222222222,
              "#7201a8"
             ],
             [
              0.3333333333333333,
              "#9c179e"
             ],
             [
              0.4444444444444444,
              "#bd3786"
             ],
             [
              0.5555555555555556,
              "#d8576b"
             ],
             [
              0.6666666666666666,
              "#ed7953"
             ],
             [
              0.7777777777777778,
              "#fb9f3a"
             ],
             [
              0.8888888888888888,
              "#fdca26"
             ],
             [
              1,
              "#f0f921"
             ]
            ],
            "type": "surface"
           }
          ],
          "table": [
           {
            "cells": {
             "fill": {
              "color": "#EBF0F8"
             },
             "line": {
              "color": "white"
             }
            },
            "header": {
             "fill": {
              "color": "#C8D4E3"
             },
             "line": {
              "color": "white"
             }
            },
            "type": "table"
           }
          ]
         },
         "layout": {
          "annotationdefaults": {
           "arrowcolor": "#2a3f5f",
           "arrowhead": 0,
           "arrowwidth": 1
          },
          "autotypenumbers": "strict",
          "coloraxis": {
           "colorbar": {
            "outlinewidth": 0,
            "ticks": ""
           }
          },
          "colorscale": {
           "diverging": [
            [
             0,
             "#8e0152"
            ],
            [
             0.1,
             "#c51b7d"
            ],
            [
             0.2,
             "#de77ae"
            ],
            [
             0.3,
             "#f1b6da"
            ],
            [
             0.4,
             "#fde0ef"
            ],
            [
             0.5,
             "#f7f7f7"
            ],
            [
             0.6,
             "#e6f5d0"
            ],
            [
             0.7,
             "#b8e186"
            ],
            [
             0.8,
             "#7fbc41"
            ],
            [
             0.9,
             "#4d9221"
            ],
            [
             1,
             "#276419"
            ]
           ],
           "sequential": [
            [
             0,
             "#0d0887"
            ],
            [
             0.1111111111111111,
             "#46039f"
            ],
            [
             0.2222222222222222,
             "#7201a8"
            ],
            [
             0.3333333333333333,
             "#9c179e"
            ],
            [
             0.4444444444444444,
             "#bd3786"
            ],
            [
             0.5555555555555556,
             "#d8576b"
            ],
            [
             0.6666666666666666,
             "#ed7953"
            ],
            [
             0.7777777777777778,
             "#fb9f3a"
            ],
            [
             0.8888888888888888,
             "#fdca26"
            ],
            [
             1,
             "#f0f921"
            ]
           ],
           "sequentialminus": [
            [
             0,
             "#0d0887"
            ],
            [
             0.1111111111111111,
             "#46039f"
            ],
            [
             0.2222222222222222,
             "#7201a8"
            ],
            [
             0.3333333333333333,
             "#9c179e"
            ],
            [
             0.4444444444444444,
             "#bd3786"
            ],
            [
             0.5555555555555556,
             "#d8576b"
            ],
            [
             0.6666666666666666,
             "#ed7953"
            ],
            [
             0.7777777777777778,
             "#fb9f3a"
            ],
            [
             0.8888888888888888,
             "#fdca26"
            ],
            [
             1,
             "#f0f921"
            ]
           ]
          },
          "colorway": [
           "#636efa",
           "#EF553B",
           "#00cc96",
           "#ab63fa",
           "#FFA15A",
           "#19d3f3",
           "#FF6692",
           "#B6E880",
           "#FF97FF",
           "#FECB52"
          ],
          "font": {
           "color": "#2a3f5f"
          },
          "geo": {
           "bgcolor": "white",
           "lakecolor": "white",
           "landcolor": "#E5ECF6",
           "showlakes": true,
           "showland": true,
           "subunitcolor": "white"
          },
          "hoverlabel": {
           "align": "left"
          },
          "hovermode": "closest",
          "mapbox": {
           "style": "light"
          },
          "paper_bgcolor": "white",
          "plot_bgcolor": "#E5ECF6",
          "polar": {
           "angularaxis": {
            "gridcolor": "white",
            "linecolor": "white",
            "ticks": ""
           },
           "bgcolor": "#E5ECF6",
           "radialaxis": {
            "gridcolor": "white",
            "linecolor": "white",
            "ticks": ""
           }
          },
          "scene": {
           "xaxis": {
            "backgroundcolor": "#E5ECF6",
            "gridcolor": "white",
            "gridwidth": 2,
            "linecolor": "white",
            "showbackground": true,
            "ticks": "",
            "zerolinecolor": "white"
           },
           "yaxis": {
            "backgroundcolor": "#E5ECF6",
            "gridcolor": "white",
            "gridwidth": 2,
            "linecolor": "white",
            "showbackground": true,
            "ticks": "",
            "zerolinecolor": "white"
           },
           "zaxis": {
            "backgroundcolor": "#E5ECF6",
            "gridcolor": "white",
            "gridwidth": 2,
            "linecolor": "white",
            "showbackground": true,
            "ticks": "",
            "zerolinecolor": "white"
           }
          },
          "shapedefaults": {
           "line": {
            "color": "#2a3f5f"
           }
          },
          "ternary": {
           "aaxis": {
            "gridcolor": "white",
            "linecolor": "white",
            "ticks": ""
           },
           "baxis": {
            "gridcolor": "white",
            "linecolor": "white",
            "ticks": ""
           },
           "bgcolor": "#E5ECF6",
           "caxis": {
            "gridcolor": "white",
            "linecolor": "white",
            "ticks": ""
           }
          },
          "title": {
           "x": 0.05
          },
          "xaxis": {
           "automargin": true,
           "gridcolor": "white",
           "linecolor": "white",
           "ticks": "",
           "title": {
            "standoff": 15
           },
           "zerolinecolor": "white",
           "zerolinewidth": 2
          },
          "yaxis": {
           "automargin": true,
           "gridcolor": "white",
           "linecolor": "white",
           "ticks": "",
           "title": {
            "standoff": 15
           },
           "zerolinecolor": "white",
           "zerolinewidth": 2
          }
         }
        },
        "title": {
         "text": "Number of Incidents per state caused by Arson"
        }
       }
      }
     },
     "metadata": {},
     "output_type": "display_data"
    }
   ],
   "source": [
    "# Create a plot\n",
    "fig_size_cause_Arson = go.Figure()\n",
    "\n",
    "# Calling function to create chart\n",
    "creating_categorical_maps('STAT_CAUSE_DESCR', 'Arson', fig_size_cause_Arson, 'Number of Incidents per state caused by Arson', 'blugrn')\n",
    "\n",
    "# Display the map\n",
    "fig_size_cause_Arson.show()"
   ]
  }
 ],
 "metadata": {
  "kernelspec": {
   "display_name": "base",
   "language": "python",
   "name": "python3"
  },
  "language_info": {
   "codemirror_mode": {
    "name": "ipython",
    "version": 3
   },
   "file_extension": ".py",
   "mimetype": "text/x-python",
   "name": "python",
   "nbconvert_exporter": "python",
   "pygments_lexer": "ipython3",
   "version": "3.12.7"
  }
 },
 "nbformat": 4,
 "nbformat_minor": 2
}
